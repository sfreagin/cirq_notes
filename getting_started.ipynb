{
 "cells": [
  {
   "cell_type": "markdown",
   "metadata": {},
   "source": [
    "## Qubits"
   ]
  },
  {
   "cell_type": "code",
   "execution_count": 3,
   "metadata": {},
   "outputs": [
    {
     "name": "stdout",
     "output_type": "stream",
     "text": [
      "myqubit: ───H───\n",
      "measurements: (no measurements)\n",
      "output vector: 0.707|0⟩ + 0.707|1⟩\n"
     ]
    }
   ],
   "source": [
    "import cirq\n",
    "\n",
    "qubit = cirq.NamedQubit(\"myqubit\")\n",
    "\n",
    "#create a Hadamard gate\n",
    "circuit = cirq.Circuit(cirq.H(qubit))\n",
    "print(circuit)\n",
    "\n",
    "result = cirq.Simulator().simulate(circuit)\n",
    "\n",
    "print(result)"
   ]
  },
  {
   "cell_type": "code",
   "execution_count": 9,
   "metadata": {},
   "outputs": [
    {
     "data": {
      "text/plain": [
       "[cirq.LineQubit(0), cirq.LineQubit(1), cirq.LineQubit(2)]"
      ]
     },
     "execution_count": 9,
     "metadata": {},
     "output_type": "execute_result"
    }
   ],
   "source": [
    "test_qubit = cirq.LineQubit.range(3)\n",
    "test_qubit"
   ]
  },
  {
   "cell_type": "markdown",
   "metadata": {},
   "source": [
    "## Gates and Operations"
   ]
  },
  {
   "cell_type": "markdown",
   "metadata": {},
   "source": [
    "A **gate** is an effect that can be applied to a collection of qubits (which are objects with a **Qid**). \n",
    "\n",
    "Gates can be applied to qubits by calling their **on** method or by calling the gate on the qubits. \n",
    "\n",
    "The object created by these calls is an **Operation**."
   ]
  },
  {
   "cell_type": "code",
   "execution_count": 10,
   "metadata": {},
   "outputs": [],
   "source": [
    "a,b,c = cirq.LineQubit.range(3)"
   ]
  },
  {
   "cell_type": "code",
   "execution_count": 13,
   "metadata": {},
   "outputs": [
    {
     "name": "stdout",
     "output_type": "stream",
     "text": [
      "H(1)\n"
     ]
    }
   ],
   "source": [
    "print(cirq.H(b))"
   ]
  },
  {
   "cell_type": "code",
   "execution_count": 15,
   "metadata": {},
   "outputs": [
    {
     "name": "stdout",
     "output_type": "stream",
     "text": [
      "CNOT(1, 2)\n"
     ]
    }
   ],
   "source": [
    "print(cirq.CNOT(b,c))"
   ]
  },
  {
   "cell_type": "code",
   "execution_count": 16,
   "metadata": {},
   "outputs": [
    {
     "name": "stdout",
     "output_type": "stream",
     "text": [
      "CNOT(0, 1)\n"
     ]
    }
   ],
   "source": [
    "print(cirq.CNOT(a,b))"
   ]
  },
  {
   "cell_type": "code",
   "execution_count": 18,
   "metadata": {},
   "outputs": [
    {
     "name": "stdout",
     "output_type": "stream",
     "text": [
      "H(0)\n"
     ]
    }
   ],
   "source": [
    "print(cirq.H(a))"
   ]
  },
  {
   "cell_type": "code",
   "execution_count": 20,
   "metadata": {},
   "outputs": [
    {
     "name": "stdout",
     "output_type": "stream",
     "text": [
      "cirq.MeasurementGate(2, '0,1', ())(0, 1)\n"
     ]
    }
   ],
   "source": [
    "print(cirq.measure(a,b))"
   ]
  },
  {
   "cell_type": "markdown",
   "metadata": {},
   "source": [
    "## Circuits"
   ]
  },
  {
   "cell_type": "markdown",
   "metadata": {},
   "source": [
    "Sometimes qubits are arranged on the vertices of a square grid, like Google's Xmon devices. \n",
    "\n",
    "Here's a 3X3 qubit grid arrangement:"
   ]
  },
  {
   "cell_type": "code",
   "execution_count": 37,
   "metadata": {},
   "outputs": [
    {
     "data": {
      "text/plain": [
       "[cirq.GridQubit(0, 0),\n",
       " cirq.GridQubit(0, 1),\n",
       " cirq.GridQubit(0, 2),\n",
       " cirq.GridQubit(1, 0),\n",
       " cirq.GridQubit(1, 1),\n",
       " cirq.GridQubit(1, 2),\n",
       " cirq.GridQubit(2, 0),\n",
       " cirq.GridQubit(2, 1),\n",
       " cirq.GridQubit(2, 2)]"
      ]
     },
     "execution_count": 37,
     "metadata": {},
     "output_type": "execute_result"
    }
   ],
   "source": [
    "qubits = [ cirq.GridQubit(x,y) for x in range(3) for y in range(3) ]\n",
    "\n",
    "qubits"
   ]
  },
  {
   "cell_type": "code",
   "execution_count": 38,
   "metadata": {},
   "outputs": [
    {
     "name": "stdout",
     "output_type": "stream",
     "text": [
      "X((0, 0))\n"
     ]
    }
   ],
   "source": [
    "#let's instantiate a Pauli X gate and apply it to a single qubit\n",
    "\n",
    "x_gate = cirq.X\n",
    "x_op = x_gate(qubits[0])\n",
    "\n",
    "print(x_op)"
   ]
  },
  {
   "cell_type": "markdown",
   "metadata": {},
   "source": [
    "A **Moment** is a collection of operations on different qubits, representing a time slice."
   ]
  },
  {
   "cell_type": "code",
   "execution_count": 39,
   "metadata": {},
   "outputs": [
    {
     "name": "stdout",
     "output_type": "stream",
     "text": [
      "  ╷ 0 1 2\n",
      "╶─┼───────\n",
      "0 │ @─@ X\n",
      "  │\n"
     ]
    }
   ],
   "source": [
    "#a moment with a Pauli X gate and a CZ gate operating on three qubits\n",
    "\n",
    "#instantiate\n",
    "cz = cirq.CZ(qubits[0],qubits[1])\n",
    "x = cirq.X(qubits[2])\n",
    "moment = cirq.Moment([x,cz])\n",
    "\n",
    "print(moment)"
   ]
  },
  {
   "cell_type": "code",
   "execution_count": 43,
   "metadata": {},
   "outputs": [
    {
     "name": "stdout",
     "output_type": "stream",
     "text": [
      "(0, 0): ───@───────\n",
      "           │\n",
      "(0, 1): ───@───@───\n",
      "               │\n",
      "(0, 2): ───X───@───\n"
     ]
    }
   ],
   "source": [
    "#a more complicated circuit composed of two moments\n",
    "\n",
    "#instantiate the gates\n",
    "cz01 = cirq.CZ(qubits[0],qubits[1])\n",
    "x2 = cirq.X(qubits[2])\n",
    "cz12 = cirq.CZ(qubits[1],qubits[2])\n",
    "\n",
    "#instantiate the moments\n",
    "moment0 = cirq.Moment([cz01,x2])\n",
    "moment1 = cirq.Moment([cz12])\n",
    "\n",
    "#create the circuit\n",
    "circuit = cirq.Circuit((moment0,moment1))\n",
    "\n",
    "print(circuit)"
   ]
  },
  {
   "cell_type": "markdown",
   "metadata": {},
   "source": [
    "So a circuit is a series of moments. But moments can be tedious to code by hand, so Cirq provides a few differents shorthand ways to create a circuit.\n",
    "\n",
    "Here we can use the append method:"
   ]
  },
  {
   "cell_type": "code",
   "execution_count": 53,
   "metadata": {},
   "outputs": [
    {
     "name": "stdout",
     "output_type": "stream",
     "text": [
      "(0, 0): ───@───\n",
      "           │\n",
      "(1, 0): ───@───\n",
      "\n",
      "(2, 0): ───H───\n"
     ]
    }
   ],
   "source": [
    "from cirq.ops import CZ, H\n",
    "\n",
    "q0, q1, q2 = [ cirq.GridQubit(i,0) for i in range(3) ]\n",
    "\n",
    "circuit = cirq.Circuit()\n",
    "circuit.append([CZ(q0,q1), H(q2)])\n",
    "\n",
    "print(circuit)"
   ]
  },
  {
   "cell_type": "code",
   "execution_count": 54,
   "metadata": {},
   "outputs": [
    {
     "name": "stdout",
     "output_type": "stream",
     "text": [
      "(0, 0): ───@───H───\n",
      "           │\n",
      "(1, 0): ───@───@───\n",
      "               │\n",
      "(2, 0): ───H───@───\n"
     ]
    }
   ],
   "source": [
    "#we can append again\n",
    "\n",
    "circuit.append([H(q0), CZ(q1,q2)])\n",
    "\n",
    "print(circuit)"
   ]
  },
  {
   "cell_type": "code",
   "execution_count": 56,
   "metadata": {},
   "outputs": [
    {
     "name": "stdout",
     "output_type": "stream",
     "text": [
      "(0, 0): ───@───H───\n",
      "           │\n",
      "(1, 0): ───@───@───\n",
      "               │\n",
      "(2, 0): ───H───@───\n"
     ]
    }
   ],
   "source": [
    "#or we can just do all the above at once\n",
    "\n",
    "circuit = cirq.Circuit()\n",
    "circuit.append([CZ(q0,q1), H(q2), H(q0), CZ(q1,q2)])\n",
    "\n",
    "print(circuit)"
   ]
  },
  {
   "cell_type": "markdown",
   "metadata": {},
   "source": [
    "*Circuit.append* and its cousin *Circuit.insert* both take an argument called **InsertStrategy**. This defines for operations are placed in a circuit when requested to be inserted at a given location. There are 4 strategies:\n",
    "\n",
    "* InsertStrategy.EARLIEST\n",
    "* InsertStrategy.NEW\n",
    "* InsertStrategy.INLINE\n",
    "* InsertStrategy.NEW_THEN_INLINE"
   ]
  },
  {
   "cell_type": "code",
   "execution_count": 57,
   "metadata": {},
   "outputs": [],
   "source": [
    "from cirq.circuits import InsertStrategy"
   ]
  },
  {
   "cell_type": "code",
   "execution_count": 69,
   "metadata": {},
   "outputs": [
    {
     "name": "stdout",
     "output_type": "stream",
     "text": [
      "EARLIEST: \n",
      "(0, 0): ───@───H───\n",
      "           │\n",
      "(1, 0): ───@───────\n",
      "\n",
      "(2, 0): ───H───────\n",
      "\n",
      "NEW: \n",
      "(0, 0): ───@───H───────\n",
      "           │\n",
      "(1, 0): ───@───────────\n",
      "\n",
      "(2, 0): ───────────H───\n",
      "\n",
      "INLINE: \n",
      "(0, 0): ───@───H───\n",
      "           │\n",
      "(1, 0): ───@───────\n",
      "\n",
      "(2, 0): ───────H───\n",
      "\n",
      "NEW_THEN_INLINE: \n",
      "(0, 0): ───@───H───\n",
      "           │\n",
      "(1, 0): ───@───────\n",
      "\n",
      "(2, 0): ───────H───\n"
     ]
    }
   ],
   "source": [
    "circuit = cirq.Circuit()\n",
    "circuit.append([CZ(q0,q1)])\n",
    "circuit.append([H(q0),H(q2)], strategy = InsertStrategy.EARLIEST)\n",
    "\n",
    "print(f\"EARLIEST: \\n{circuit}\")\n",
    "\n",
    "circuit = cirq.Circuit()\n",
    "circuit.append([CZ(q0,q1)])\n",
    "circuit.append([H(q0),H(q2)], strategy = InsertStrategy.NEW)\n",
    "\n",
    "print(f\"\\nNEW: \\n{circuit}\")\n",
    "\n",
    "circuit = cirq.Circuit()\n",
    "circuit.append([CZ(q0,q1)])\n",
    "circuit.append([H(q0),H(q2)], strategy = InsertStrategy.INLINE)\n",
    "\n",
    "print(f\"\\nINLINE: \\n{circuit}\")\n",
    "\n",
    "circuit = cirq.Circuit()\n",
    "circuit.append([CZ(q0,q1)])\n",
    "circuit.append([H(q0),H(q2)], strategy = InsertStrategy.NEW_THEN_INLINE)\n",
    "\n",
    "print(f\"\\nNEW_THEN_INLINE: \\n{circuit}\")"
   ]
  },
  {
   "cell_type": "code",
   "execution_count": 75,
   "metadata": {},
   "outputs": [
    {
     "name": "stdout",
     "output_type": "stream",
     "text": [
      "Original:\n",
      "(0, 0): ───H───\n",
      "\n",
      "(1, 0): ───H───\n",
      "\n",
      "(2, 0): ───H───\n",
      "\n",
      "NEW:\n",
      "(0, 0): ───H───────────\n",
      "\n",
      "(1, 0): ───────H───────\n",
      "\n",
      "(2, 0): ───────────H───\n"
     ]
    }
   ],
   "source": [
    "#another example of NEW\n",
    "circuit = cirq.Circuit()\n",
    "circuit.append([H(q0),H(q1),H(q2)])\n",
    "\n",
    "print(f\"Original:\\n{circuit}\")\n",
    "\n",
    "circuit = cirq.Circuit()\n",
    "circuit.append([H(q0),H(q1),H(q2)], strategy=InsertStrategy.NEW)\n",
    "\n",
    "print(f\"\\nNEW:\\n{circuit}\")"
   ]
  },
  {
   "cell_type": "code",
   "execution_count": 83,
   "metadata": {},
   "outputs": [
    {
     "name": "stdout",
     "output_type": "stream",
     "text": [
      "Original:\n",
      "(0, 0): ───H───────────\n",
      "\n",
      "(1, 0): ───@───@───H───\n",
      "           │   │\n",
      "(2, 0): ───@───@───H───\n",
      "\n",
      "INLINE:\n",
      "(0, 0): ───────H───────\n",
      "\n",
      "(1, 0): ───@───@───H───\n",
      "           │   │\n",
      "(2, 0): ───@───@───H───\n"
     ]
    }
   ],
   "source": [
    "#another example of INLINE\n",
    "\n",
    "circuit = cirq.Circuit()\n",
    "circuit.append([CZ(q1,q2)])\n",
    "circuit.append([CZ(q1,q2)])\n",
    "circuit.append([H(q0),H(q1),H(q2)])\n",
    "\n",
    "print(f'Original:\\n{circuit}')\n",
    "\n",
    "circuit = cirq.Circuit()\n",
    "circuit.append([CZ(q1,q2)])\n",
    "circuit.append([CZ(q1,q2)])\n",
    "circuit.append([H(q0),H(q1),H(q2)], strategy=InsertStrategy.INLINE)\n",
    "\n",
    "print(f'\\nINLINE:\\n{circuit}')"
   ]
  },
  {
   "cell_type": "markdown",
   "metadata": {},
   "source": [
    "Note that the first H-gate was inserted into the previous moment (2nd moment), but the H-gates on the 2nd and 3rd qubits cannot be inserted so a new moment is created"
   ]
  },
  {
   "cell_type": "code",
   "execution_count": 87,
   "metadata": {},
   "outputs": [
    {
     "name": "stdout",
     "output_type": "stream",
     "text": [
      "Original:\n",
      "(0, 0): ───H───H───\n",
      "\n",
      "(1, 0): ───@───────\n",
      "           │\n",
      "(2, 0): ───@───────\n",
      "\n",
      "NEW_THEN_INLINE:\n",
      "(0, 0): ───H───H───\n",
      "\n",
      "(1, 0): ───────@───\n",
      "               │\n",
      "(2, 0): ───────@───\n"
     ]
    }
   ],
   "source": [
    "#another example of NEW_THEN_INLINE\n",
    "\n",
    "circuit = cirq.Circuit()\n",
    "circuit.append([H(q0)])\n",
    "circuit.append([CZ(q1,q2), H(q0)])\n",
    "\n",
    "print(f\"Original:\\n{circuit}\")\n",
    "\n",
    "circuit = cirq.Circuit()\n",
    "circuit.append([H(q0)])\n",
    "circuit.append([CZ(q1,q2), H(q0)], strategy = InsertStrategy.NEW_THEN_INLINE)\n",
    "\n",
    "print(f\"\\nNEW_THEN_INLINE:\\n{circuit}\")"
   ]
  },
  {
   "cell_type": "code",
   "execution_count": 92,
   "metadata": {},
   "outputs": [
    {
     "name": "stdout",
     "output_type": "stream",
     "text": [
      "The circuit:\n",
      "(0, 0): ───@───H───H───────\n",
      "           │\n",
      "(1, 0): ───@───H───@───@───\n",
      "                   │   │\n",
      "(2, 0): ───H───────@───@───\n",
      "\n",
      "The details:\n",
      "CZ((0, 0), (1, 0))\n",
      "[cirq.H(cirq.GridQubit(0, 0)), cirq.H(cirq.GridQubit(1, 0)), cirq.H(cirq.GridQubit(2, 0))]\n",
      "[cirq.CZ(cirq.GridQubit(1, 0), cirq.GridQubit(2, 0))]\n",
      "[cirq.H(cirq.GridQubit(0, 0)), [cirq.CZ(cirq.GridQubit(1, 0), cirq.GridQubit(2, 0))]]\n"
     ]
    }
   ],
   "source": [
    "#the circuit.append() method can take more than just list values:\n",
    "\n",
    "def my_layer():\n",
    "    yield CZ(q0,q1)\n",
    "    yield [H(q) for q in (q0,q1,q2)]\n",
    "    yield [CZ(q1,q2)]\n",
    "    yield [H(q0), [CZ(q1,q2)]]\n",
    "    \n",
    "circuit = cirq.Circuit()\n",
    "circuit.append(my_layer())\n",
    "\n",
    "print(f\"The circuit:\\n{circuit}\")\n",
    "print(\"\\nThe details:\")\n",
    "\n",
    "for x in my_layer():\n",
    "    print(x)"
   ]
  },
  {
   "cell_type": "markdown",
   "metadata": {},
   "source": [
    "The above uses the concept of an **OPT_TREE** which is not a class but a *contract*\n",
    "\n",
    "The idea of an OPT_TREE is, the input is iteratively flattened into a list of operations. Here's an example:"
   ]
  },
  {
   "cell_type": "code",
   "execution_count": 94,
   "metadata": {},
   "outputs": [
    {
     "data": {
      "text/html": [
       "<pre style=\"overflow: auto; white-space: pre;\">(0, 0): ───H───\n",
       "\n",
       "(1, 0): ───H───</pre>"
      ],
      "text/plain": [
       "(0, 0): ───H───\n",
       "\n",
       "(1, 0): ───H───"
      ]
     },
     "execution_count": 94,
     "metadata": {},
     "output_type": "execute_result"
    }
   ],
   "source": [
    "circuit = cirq.Circuit(H(q0),H(q1))\n",
    "\n",
    "circuit"
   ]
  },
  {
   "cell_type": "markdown",
   "metadata": {},
   "source": [
    "Circuits can be iterated over and sliced. Each item in the iteration is a moment"
   ]
  },
  {
   "cell_type": "code",
   "execution_count": 96,
   "metadata": {},
   "outputs": [
    {
     "name": "stdout",
     "output_type": "stream",
     "text": [
      "  ╷ 0\n",
      "╶─┼───\n",
      "0 │ H\n",
      "  │\n",
      "  ╷ 0\n",
      "╶─┼───\n",
      "0 │ @\n",
      "  │ │\n",
      "1 │ @\n",
      "  │\n",
      "(0, 0): ───H───@───\n",
      "               │\n",
      "(1, 0): ───────@───\n"
     ]
    }
   ],
   "source": [
    "circuit = cirq.Circuit(H(q0), CZ(q0,q1))\n",
    "\n",
    "for moment in circuit:\n",
    "    print(moment)\n",
    "    \n",
    "print(circuit)"
   ]
  },
  {
   "cell_type": "code",
   "execution_count": 99,
   "metadata": {},
   "outputs": [
    {
     "name": "stdout",
     "output_type": "stream",
     "text": [
      "Original:\n",
      "(0, 0): ───H───@───────@───\n",
      "               │       │\n",
      "(1, 0): ───────@───H───@───\n",
      "\n",
      "Sliced:\n",
      "(0, 0): ───@───────\n",
      "           │\n",
      "(1, 0): ───@───H───\n"
     ]
    }
   ],
   "source": [
    "circuit = cirq.Circuit(H(q0), CZ(q0,q1), H(q1), CZ(q0,q1))\n",
    "\n",
    "print(f\"Original:\\n{circuit}\")\n",
    "\n",
    "print(f\"\\nSliced:\\n{circuit[1:3]}\")"
   ]
  },
  {
   "cell_type": "markdown",
   "metadata": {},
   "source": [
    "## Simulation"
   ]
  },
  {
   "cell_type": "code",
   "execution_count": 101,
   "metadata": {},
   "outputs": [
    {
     "name": "stdout",
     "output_type": "stream",
     "text": [
      "(0, 0): ───X^0.5───@───X^0.5───M('q0')───\n",
      "                   │\n",
      "(1, 0): ───X^0.5───@───X^0.5───M('q1')───\n"
     ]
    }
   ],
   "source": [
    "#let's create a circuit\n",
    "\n",
    "#first the qubits\n",
    "q0 = cirq.GridQubit(0,0)\n",
    "q1 = cirq.GridQubit(1,0)\n",
    "\n",
    "#create a generator function\n",
    "def basic_circuit(meas=True):\n",
    "    sqrt_x = cirq.X**0.5\n",
    "    yield sqrt_x(q0), sqrt_x(q1)\n",
    "    yield cirq.CZ(q0,q1)\n",
    "    yield sqrt_x(q0), sqrt_x(q1)\n",
    "    if meas:\n",
    "        yield cirq.measure(q0, key='q0'), cirq.measure(q1, key='q1')\n",
    "        \n",
    "circuit = cirq.Circuit()\n",
    "circuit.append(basic_circuit())\n",
    "\n",
    "print(circuit)"
   ]
  },
  {
   "cell_type": "code",
   "execution_count": 103,
   "metadata": {},
   "outputs": [],
   "source": [
    "#create a Simulator\n",
    "from cirq import Simulator"
   ]
  },
  {
   "cell_type": "code",
   "execution_count": 106,
   "metadata": {},
   "outputs": [
    {
     "name": "stdout",
     "output_type": "stream",
     "text": [
      "q0=1\n",
      "q1=1\n"
     ]
    }
   ],
   "source": [
    "#instantiate Simulator and run it\n",
    "simulator = Simulator()\n",
    "result = simulator.run(circuit)\n",
    "\n",
    "#the .run() method returns a result\n",
    "print(result)"
   ]
  },
  {
   "cell_type": "code",
   "execution_count": 107,
   "metadata": {},
   "outputs": [
    {
     "name": "stdout",
     "output_type": "stream",
     "text": [
      "q0=1\n",
      "q1=0\n"
     ]
    }
   ],
   "source": [
    "#another run may (or not) get different results\n",
    "result = simulator.run(circuit)\n",
    "\n",
    "print(result)"
   ]
  },
  {
   "cell_type": "code",
   "execution_count": 108,
   "metadata": {},
   "outputs": [],
   "source": [
    "#here's what the statevector looks like\n",
    "import numpy as np"
   ]
  },
  {
   "cell_type": "code",
   "execution_count": 110,
   "metadata": {},
   "outputs": [
    {
     "name": "stdout",
     "output_type": "stream",
     "text": [
      "[0.5+0.j  0. +0.5j 0. +0.5j 0.5+0.j ]\n"
     ]
    }
   ],
   "source": [
    "circuit = cirq.Circuit()\n",
    "circuit.append(basic_circuit(False))\n",
    "\n",
    "result = simulator.simulate(circuit, qubit_order=[q0,q1])\n",
    "\n",
    "print(result.final_state_vector)"
   ]
  },
  {
   "cell_type": "markdown",
   "metadata": {},
   "source": [
    "##### Calculating expectation values(!!)"
   ]
  },
  {
   "cell_type": "code",
   "execution_count": 113,
   "metadata": {},
   "outputs": [
    {
     "name": "stdout",
     "output_type": "stream",
     "text": [
      "[(1+0j), 0j]\n"
     ]
    }
   ],
   "source": [
    "XX_obs = cirq.X(q0) * cirq.X(q1)\n",
    "ZZ_obs = cirq.Z(q0) * cirq.Z(q1)\n",
    "\n",
    "ev_list = simulator.simulate_expectation_values(cirq.Circuit(basic_circuit(False)),\n",
    "                                               observables = [XX_obs, ZZ_obs])\n",
    "\n",
    "print(ev_list)"
   ]
  },
  {
   "cell_type": "markdown",
   "metadata": {},
   "source": [
    "##### Qubit and amplitude ordering\n",
    "\n",
    "The mapping from the order of qubits to the order of amplitudes in the wave function is basically the same order as the Kronecker delta function"
   ]
  },
  {
   "cell_type": "code",
   "execution_count": 115,
   "metadata": {},
   "outputs": [
    {
     "name": "stdout",
     "output_type": "stream",
     "text": [
      "[ 1  2 10 20]\n"
     ]
    }
   ],
   "source": [
    "outside = [1,10]\n",
    "inside = [1,2]\n",
    "\n",
    "print(np.kron(outside,inside))"
   ]
  },
  {
   "cell_type": "code",
   "execution_count": 116,
   "metadata": {},
   "outputs": [
    {
     "name": "stdout",
     "output_type": "stream",
     "text": [
      "amps[0] is for first = 0, second = 0\n",
      "amps[1] is for first = 0, second = 1\n",
      "amps[2] is for first = 1, second = 0\n",
      "amps[3] is for first = 1, second = 1\n"
     ]
    }
   ],
   "source": [
    "i = 0\n",
    "\n",
    "for first in [0,1]:\n",
    "    for second in [0,1]:\n",
    "        print(f\"amps[{i}] is for first = {first}, second = {second}\")\n",
    "        i += 1"
   ]
  },
  {
   "cell_type": "code",
   "execution_count": 121,
   "metadata": {},
   "outputs": [
    {
     "name": "stdout",
     "output_type": "stream",
     "text": [
      "[0. 0. 1. 0.]\n",
      "[0. 1. 0. 0.]\n"
     ]
    }
   ],
   "source": [
    "#we can check this is the right odering with a circuit that flips one of the qubits\n",
    "\n",
    "q_stay = cirq.NamedQubit('q_stay')\n",
    "q_flip = cirq.NamedQubit('q_flip')\n",
    "my_circuit = cirq.Circuit(cirq.X(q_flip))\n",
    "\n",
    "#first qubit flipped\n",
    "result = simulator.simulate(my_circuit, qubit_order = [q_flip, q_stay])\n",
    "print(abs(result.final_state_vector).round(3))\n",
    "\n",
    "#second qubit flipped\n",
    "result = simulator.simulate(my_circuit, qubit_order = [q_stay, q_flip])\n",
    "print(abs(result.final_state_vector).round(3))"
   ]
  },
  {
   "cell_type": "code",
   "execution_count": 135,
   "metadata": {},
   "outputs": [
    {
     "name": "stdout",
     "output_type": "stream",
     "text": [
      "state at step 0: [0. +0.5j 0.5+0.j  0.5+0.j  0. -0.5j]\n",
      "state at step 1: [0. +0.5j 0.5+0.j  0.5+0.j  0. +0.5j]\n",
      "state at step 2: [0.5+0.j  0. +0.5j 0. +0.5j 0.5+0.j ]\n",
      "state at step 3: [0.+0.j 0.+0.j 0.+0.j 1.+0.j]\n"
     ]
    }
   ],
   "source": [
    "#you can inspect or even modify the state at different steps in the circuit\n",
    "\n",
    "circuit = cirq.Circuit()\n",
    "circuit.append(basic_circuit())\n",
    "for i, step in enumerate(simulator.simulate_moment_steps(circuit)):\n",
    "    print('state at step %d: %s' % (i, np.around(step.state_vector(), 3)))"
   ]
  },
  {
   "cell_type": "code",
   "execution_count": 140,
   "metadata": {},
   "outputs": [
    {
     "name": "stdout",
     "output_type": "stream",
     "text": [
      "state at step 0: [0. +0.5j 0.5+0.j  0.5+0.j  0. -0.5j]\n",
      "state at step 1: [0. +0.5j 0.5+0.j  0.5+0.j  0. +0.5j]\n",
      "state at step 2: [0.5+0.j  0. +0.5j 0. +0.5j 0.5+0.j ]\n",
      "state at step 3: [0.+0.j 0.+0.j 0.+0.j 1.+0.j]\n"
     ]
    }
   ],
   "source": [
    "#you can also split the circuit into chunks\n",
    "#and pass the results of each chunk as the initial state for each new chunk\n",
    "\n",
    "chunks = [ cirq.Circuit(moment) for moment in basic_circuit() ]\n",
    "next_state = 0 #representing the all-zero state\n",
    "\n",
    "for i, chunk in enumerate(chunks):\n",
    "    result = simulator.simulate(chunk, initial_state = next_state)\n",
    "    next_state = result.final_state_vector\n",
    "    print(f\"state at step {i}: {np.around(next_state,3)}\")"
   ]
  },
  {
   "cell_type": "markdown",
   "metadata": {},
   "source": [
    "##### Parametrized values and studies\n",
    "\n",
    "Cirq supports gates which can have a **Symbol** value, values that can be resolved at runtime\n",
    "\n",
    "For simulators, these values are resolved by a *cirq.ParamResolver()* method"
   ]
  },
  {
   "cell_type": "code",
   "execution_count": 141,
   "metadata": {},
   "outputs": [],
   "source": [
    "import sympy"
   ]
  },
  {
   "cell_type": "code",
   "execution_count": 145,
   "metadata": {},
   "outputs": [
    {
     "name": "stdout",
     "output_type": "stream",
     "text": [
      "[1.+0.j 0.+0.j 0.+0.j 0.+0.j]\n",
      "[ 0.6 +0.6j   0.25-0.25j  0.25-0.25j -0.1 -0.1j ]\n",
      "[0. +0.5j 0.5+0.j  0.5+0.j  0. -0.5j]\n",
      "[-0.1 +0.1j   0.25+0.25j  0.25+0.25j  0.6 -0.6j ]\n",
      "[0.+0.j 0.+0.j 0.+0.j 1.+0.j]\n"
     ]
    }
   ],
   "source": [
    "#creating a gate\n",
    "rot_w_gate = cirq.X ** sympy.Symbol('x')\n",
    "\n",
    "circuit = cirq.Circuit()\n",
    "circuit.append([rot_w_gate(q0), rot_w_gate(q1)])\n",
    "\n",
    "for y in range(5):\n",
    "    resolver = cirq.ParamResolver({'x': y / 4.0})\n",
    "    result = simulator.simulate(circuit, resolver)\n",
    "    print(np.round(result.final_state_vector,2))"
   ]
  },
  {
   "cell_type": "code",
   "execution_count": 151,
   "metadata": {},
   "outputs": [
    {
     "name": "stdout",
     "output_type": "stream",
     "text": [
      "Trial 1:\n",
      "q0=00\n",
      "q1=00\n",
      "\n",
      "Trial 2:\n",
      "q0=10\n",
      "q1=11\n",
      "\n",
      "Trial 3:\n",
      "q0=11\n",
      "q1=11\n",
      "\n"
     ]
    }
   ],
   "source": [
    "#paramterized values are most useful in defining a sweep\n",
    "#and a sweep is a sequence of trials\n",
    "\n",
    "resolvers = [ cirq.ParamResolver({'x': y / 2.0}) for y in range(3) ]\n",
    "\n",
    "circuit = cirq.Circuit()\n",
    "circuit.append([rot_w_gate(q0), rot_w_gate(q1)])\n",
    "circuit.append([cirq.measure(q0, key = 'q0'), cirq.measure(q1, key = 'q1')])\n",
    "\n",
    "results = simulator.run_sweep(program = circuit, params = resolvers, repetitions = 2)\n",
    "\n",
    "i=1\n",
    "for result in results:\n",
    "    print(f'Trial {i}:\\n{result}\\n')\n",
    "    i+=1"
   ]
  },
  {
   "cell_type": "markdown",
   "metadata": {},
   "source": [
    "##### Mixed state simulations\n",
    "\n",
    "This simulator puts a state in equal superposition of 0 and 1, then applies amplitude damping which takes 1 to 0 with a specified probability (0.2 here)\n",
    "\n",
    "So about 20% of the 1s are converted to 0s, leading to a ~60% probability of a 0 measurement"
   ]
  },
  {
   "cell_type": "code",
   "execution_count": 159,
   "metadata": {},
   "outputs": [
    {
     "name": "stdout",
     "output_type": "stream",
     "text": [
      "Result is:\n",
      "a=1001111011000011101101000100000010001000110011010001100100010000000010101011001110000010111010111100\n",
      "\n",
      "Counter:\n",
      "Counter({0: 58, 1: 42})\n"
     ]
    }
   ],
   "source": [
    "q = cirq.NamedQubit('a')\n",
    "\n",
    "circuit = cirq.Circuit(cirq.H(q), cirq.amplitude_damp(0.2)(q), cirq.measure(q))\n",
    "\n",
    "simulator = cirq.DensityMatrixSimulator()\n",
    "result = simulator.run(circuit,repetitions=100)\n",
    "\n",
    "print(f'Result is:\\n{result}\\n')\n",
    "print(f\"Counter:\\n{result.histogram(key='a')}\")"
   ]
  },
  {
   "cell_type": "code",
   "execution_count": 162,
   "metadata": {},
   "outputs": [
    {
     "name": "stdout",
     "output_type": "stream",
     "text": [
      "[[0.6  +0.j 0.447+0.j]\n",
      " [0.447+0.j 0.4  +0.j]]\n"
     ]
    }
   ],
   "source": [
    "#here's a density matrix\n",
    "\n",
    "q = cirq.NamedQubit('a')\n",
    "\n",
    "circuit = cirq.Circuit(cirq.H(q), cirq.amplitude_damp(0.2)(q))\n",
    "\n",
    "simulator = cirq.DensityMatrixSimulator()\n",
    "result = simulator.simulate(circuit)\n",
    "\n",
    "print(np.around(result.final_density_matrix,3))"
   ]
  },
  {
   "cell_type": "code",
   "execution_count": null,
   "metadata": {},
   "outputs": [],
   "source": []
  },
  {
   "cell_type": "code",
   "execution_count": null,
   "metadata": {},
   "outputs": [],
   "source": []
  },
  {
   "cell_type": "code",
   "execution_count": null,
   "metadata": {},
   "outputs": [],
   "source": []
  },
  {
   "cell_type": "code",
   "execution_count": null,
   "metadata": {},
   "outputs": [],
   "source": []
  },
  {
   "cell_type": "code",
   "execution_count": null,
   "metadata": {},
   "outputs": [],
   "source": []
  },
  {
   "cell_type": "code",
   "execution_count": null,
   "metadata": {},
   "outputs": [],
   "source": []
  }
 ],
 "metadata": {
  "kernelspec": {
   "display_name": "Python 3",
   "language": "python",
   "name": "python3"
  },
  "language_info": {
   "codemirror_mode": {
    "name": "ipython",
    "version": 3
   },
   "file_extension": ".py",
   "mimetype": "text/x-python",
   "name": "python",
   "nbconvert_exporter": "python",
   "pygments_lexer": "ipython3",
   "version": "3.8.5"
  }
 },
 "nbformat": 4,
 "nbformat_minor": 4
}

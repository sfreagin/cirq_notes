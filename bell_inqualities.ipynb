{
 "cells": [
  {
   "cell_type": "markdown",
   "metadata": {},
   "source": [
    "Source: https://github.com/quantumlib/Cirq/blob/master/examples/bell_inequality.py"
   ]
  },
  {
   "cell_type": "code",
   "execution_count": 2,
   "metadata": {},
   "outputs": [],
   "source": [
    "import numpy as np\n",
    "import cirq"
   ]
  },
  {
   "cell_type": "code",
   "execution_count": 13,
   "metadata": {},
   "outputs": [],
   "source": [
    "#create a Bell circuit\n",
    "def make_bell_test_circuit():\n",
    "\n",
    "    alice = cirq.GridQubit(0,0)\n",
    "    bob = cirq.GridQubit(1,0)\n",
    "    alice_referee = cirq.GridQubit(0,1)\n",
    "    bob_referee = cirq.GridQubit(1,1)\n",
    "    \n",
    "    #prepare entangled state, referees flip coins\n",
    "    circuit = cirq.Circuit()\n",
    "    circuit.append([cirq.H(alice), cirq.CNOT(alice, bob)])\n",
    "    circuit.append([cirq.H(alice_referee), cirq.H(bob_referee)])\n",
    "    \n",
    "    #players do sqrt(X) bassed on their referee's coin\n",
    "    circuit.append([cirq.X(alice) ** -0.25,\n",
    "                    cirq.CNOT(alice_referee, alice) ** 0.5,\n",
    "                    cirq.CNOT(bob_referee, bob) ** 0.5])\n",
    "    \n",
    "    #record the results\n",
    "    circuit.append([cirq.measure(alice, key='a'),\n",
    "                    cirq.measure(bob, key='b'),\n",
    "                    cirq.measure(alice_referee, key='x'),\n",
    "                    cirq.measure(bob_referee, key='y')])\n",
    "    \n",
    "    return circuit"
   ]
  },
  {
   "cell_type": "code",
   "execution_count": 11,
   "metadata": {},
   "outputs": [],
   "source": [
    "def bitstring(bits):\n",
    "    return ''.join('1' if e else '0' for e in bits)"
   ]
  },
  {
   "cell_type": "code",
   "execution_count": 39,
   "metadata": {},
   "outputs": [],
   "source": [
    "def main():\n",
    "    circuit = make_bell_test_circuit()\n",
    "    print(f\"Bell circuit:\\n{circuit}\\n\")\n",
    "    \n",
    "    #simulations\n",
    "    repetitions = 75\n",
    "    result = cirq.Simulator().run(program=circuit, \n",
    "                                  repetitions = repetitions)\n",
    "    \n",
    "    #collect results\n",
    "    a = np.array(result.measurements['a'][:,0])\n",
    "    b = np.array(result.measurements['b'][:,0])\n",
    "    x = np.array(result.measurements['x'][:,0])\n",
    "    y = np.array(result.measurements['y'][:,0])\n",
    "    \n",
    "    outcomes = a ^ b == x & y\n",
    "    win_percent = len([e for e in outcomes if e]) * 100 / repetitions\n",
    "    \n",
    "    print(f\"Results:\")\n",
    "    print(f\"a: {bitstring(a)}\\n\")\n",
    "    print(f\"b: {bitstring(b)}\\n\")\n",
    "    print(f\"x: {bitstring(x)}\\n\")\n",
    "    print(f\"y: {bitstring(y)}\\n\")\n",
    "    \n",
    "    print(f\"a XOR b == x AND y:\\n{bitstring(outcomes)}\\n\")\n",
    "    print(f\"Win rate: {win_percent}%\")"
   ]
  },
  {
   "cell_type": "code",
   "execution_count": 43,
   "metadata": {},
   "outputs": [
    {
     "name": "stdout",
     "output_type": "stream",
     "text": [
      "Bell circuit:\n",
      "(0, 0): ───H───@───X^-0.25───X────────M('a')───\n",
      "               │             │\n",
      "(0, 1): ───H───┼─────────────@^0.5────M('x')───\n",
      "               │\n",
      "(1, 0): ───────X───X─────────M('b')────────────\n",
      "                   │\n",
      "(1, 1): ───H───────@^0.5─────M('y')────────────\n",
      "\n",
      "Results:\n",
      "a: 001110010010011110110110101111010011000010101101011011100011101001001110111\n",
      "\n",
      "b: 000011110000001100011110011101110011010101100101010110001011100011100100011\n",
      "\n",
      "x: 001101001011110011111100110110111010011110001001001111111001001111111010100\n",
      "\n",
      "y: 111010100010011110001011110010110100110010101100101101101000101110100111111\n",
      "\n",
      "a XOR b == x AND y:\n",
      "111010011111111111011111111111101111111010111111111111111111111011110111111\n",
      "\n",
      "Win rate: 88.0%\n"
     ]
    }
   ],
   "source": [
    "main()"
   ]
  },
  {
   "cell_type": "code",
   "execution_count": null,
   "metadata": {},
   "outputs": [],
   "source": []
  },
  {
   "cell_type": "code",
   "execution_count": null,
   "metadata": {},
   "outputs": [],
   "source": []
  },
  {
   "cell_type": "code",
   "execution_count": null,
   "metadata": {},
   "outputs": [],
   "source": []
  },
  {
   "cell_type": "code",
   "execution_count": null,
   "metadata": {},
   "outputs": [],
   "source": []
  },
  {
   "cell_type": "code",
   "execution_count": null,
   "metadata": {},
   "outputs": [],
   "source": []
  },
  {
   "cell_type": "code",
   "execution_count": null,
   "metadata": {},
   "outputs": [],
   "source": []
  },
  {
   "cell_type": "code",
   "execution_count": 4,
   "metadata": {},
   "outputs": [],
   "source": [
    "alice = cirq.GridQubit(0,0)\n",
    "bob = cirq.GridQubit(1,0)\n",
    "alice_referee = cirq.GridQubit(0,1)\n",
    "bob_referee = cirq.GridQubit(1,1)\n",
    "\n",
    "circuit = cirq.Circuit()"
   ]
  },
  {
   "cell_type": "code",
   "execution_count": 5,
   "metadata": {},
   "outputs": [
    {
     "data": {
      "text/html": [
       "<pre style=\"overflow: auto; white-space: pre;\">(0, 0): ───H───@───\n",
       "               │\n",
       "(1, 0): ───────X───</pre>"
      ],
      "text/plain": [
       "(0, 0): ───H───@───\n",
       "               │\n",
       "(1, 0): ───────X───"
      ]
     },
     "execution_count": 5,
     "metadata": {},
     "output_type": "execute_result"
    }
   ],
   "source": [
    "#prepare the shared entangled state\n",
    "circuit.append([cirq.H(alice), cirq.CNOT(alice,bob)])\n",
    "\n",
    "circuit"
   ]
  },
  {
   "cell_type": "code",
   "execution_count": 7,
   "metadata": {},
   "outputs": [
    {
     "data": {
      "text/html": [
       "<pre style=\"overflow: auto; white-space: pre;\">(0, 0): ───H───@───\n",
       "               │\n",
       "(0, 1): ───H───┼───\n",
       "               │\n",
       "(1, 0): ───────X───\n",
       "\n",
       "(1, 1): ───H───────</pre>"
      ],
      "text/plain": [
       "(0, 0): ───H───@───\n",
       "               │\n",
       "(0, 1): ───H───┼───\n",
       "               │\n",
       "(1, 0): ───────X───\n",
       "\n",
       "(1, 1): ───H───────"
      ]
     },
     "execution_count": 7,
     "metadata": {},
     "output_type": "execute_result"
    }
   ],
   "source": [
    "#referees flip coins\n",
    "circuit.append([cirq.H(alice_referee), cirq.H(bob_referee)])\n",
    "\n",
    "circuit"
   ]
  },
  {
   "cell_type": "code",
   "execution_count": 8,
   "metadata": {},
   "outputs": [
    {
     "data": {
      "text/html": [
       "<pre style=\"overflow: auto; white-space: pre;\">(0, 0): ───H───@───X^-0.25───X───────\n",
       "               │             │\n",
       "(0, 1): ───H───┼─────────────@^0.5───\n",
       "               │\n",
       "(1, 0): ───────X───X─────────────────\n",
       "                   │\n",
       "(1, 1): ───H───────@^0.5─────────────</pre>"
      ],
      "text/plain": [
       "(0, 0): ───H───@───X^-0.25───X───────\n",
       "               │             │\n",
       "(0, 1): ───H───┼─────────────@^0.5───\n",
       "               │\n",
       "(1, 0): ───────X───X─────────────────\n",
       "                   │\n",
       "(1, 1): ───H───────@^0.5─────────────"
      ]
     },
     "execution_count": 8,
     "metadata": {},
     "output_type": "execute_result"
    }
   ],
   "source": [
    "#players do a sqrt(X) based on their referee's coin\n",
    "\n",
    "circuit.append([cirq.X(alice) ** -0.25, \n",
    "               cirq.CNOT(alice_referee, alice) ** 0.5,\n",
    "               cirq.CNOT(bob_referee, bob) ** 0.5])\n",
    "\n",
    "circuit"
   ]
  },
  {
   "cell_type": "code",
   "execution_count": 9,
   "metadata": {},
   "outputs": [
    {
     "data": {
      "text/html": [
       "<pre style=\"overflow: auto; white-space: pre;\">(0, 0): ───H───@───X^-0.25───X────────M(&#x27;a&#x27;)───\n",
       "               │             │\n",
       "(0, 1): ───H───┼─────────────@^0.5────M(&#x27;x&#x27;)───\n",
       "               │\n",
       "(1, 0): ───────X───X─────────M(&#x27;b&#x27;)────────────\n",
       "                   │\n",
       "(1, 1): ───H───────@^0.5─────M(&#x27;y&#x27;)────────────</pre>"
      ],
      "text/plain": [
       "(0, 0): ───H───@───X^-0.25───X────────M('a')───\n",
       "               │             │\n",
       "(0, 1): ───H───┼─────────────@^0.5────M('x')───\n",
       "               │\n",
       "(1, 0): ───────X───X─────────M('b')────────────\n",
       "                   │\n",
       "(1, 1): ───H───────@^0.5─────M('y')────────────"
      ]
     },
     "execution_count": 9,
     "metadata": {},
     "output_type": "execute_result"
    }
   ],
   "source": [
    "#record the results\n",
    "circuit.append([cirq.measure(alice, key='a'),\n",
    "                cirq.measure(bob, key='b'),\n",
    "                cirq.measure(alice_referee, key='x'),\n",
    "                cirq.measure(bob_referee, key = 'y')])\n",
    "\n",
    "circuit"
   ]
  },
  {
   "cell_type": "code",
   "execution_count": null,
   "metadata": {},
   "outputs": [],
   "source": []
  },
  {
   "cell_type": "code",
   "execution_count": 14,
   "metadata": {},
   "outputs": [
    {
     "data": {
      "text/html": [
       "<pre style=\"overflow: auto; white-space: pre;\">(0, 0): ───H───@───X^-0.25───X────────M(&#x27;a&#x27;)───\n",
       "               │             │\n",
       "(0, 1): ───H───┼─────────────@^0.5────M(&#x27;x&#x27;)───\n",
       "               │\n",
       "(1, 0): ───────X───X─────────M(&#x27;b&#x27;)────────────\n",
       "                   │\n",
       "(1, 1): ───H───────@^0.5─────M(&#x27;y&#x27;)────────────</pre>"
      ],
      "text/plain": [
       "(0, 0): ───H───@───X^-0.25───X────────M('a')───\n",
       "               │             │\n",
       "(0, 1): ───H───┼─────────────@^0.5────M('x')───\n",
       "               │\n",
       "(1, 0): ───────X───X─────────M('b')────────────\n",
       "                   │\n",
       "(1, 1): ───H───────@^0.5─────M('y')────────────"
      ]
     },
     "execution_count": 14,
     "metadata": {},
     "output_type": "execute_result"
    }
   ],
   "source": [
    "circuit = make_bell_test_circuit()\n",
    "circuit"
   ]
  },
  {
   "cell_type": "code",
   "execution_count": 18,
   "metadata": {},
   "outputs": [
    {
     "data": {
      "text/plain": [
       "a=000110011101011000011010001001001111000111100011110000010001001010100010111\n",
       "b=011110010001000110010010000100001111000000111110000001110001011110000011001\n",
       "x=011101011100011111111001001111000100111111011001110011000000010110100101110\n",
       "y=111000101100110100000010101101001000000111011101100101000110111100101001111"
      ]
     },
     "execution_count": 18,
     "metadata": {},
     "output_type": "execute_result"
    }
   ],
   "source": [
    "repetitions = 75\n",
    "result = cirq.Simulator().run(program = circuit, repetitions = repetitions)\n",
    "result"
   ]
  },
  {
   "cell_type": "code",
   "execution_count": 24,
   "metadata": {},
   "outputs": [],
   "source": [
    "a = np.array(result.measurements['a'][:,0])\n",
    "b = np.array(result.measurements['b'][:,0])\n",
    "x = np.array(result.measurements['x'][:,0])\n",
    "y = np.array(result.measurements['y'][:,0])\n",
    "\n",
    "outcomes = a^b == x & y"
   ]
  },
  {
   "cell_type": "code",
   "execution_count": 26,
   "metadata": {},
   "outputs": [
    {
     "name": "stdout",
     "output_type": "stream",
     "text": [
      "a: 000110011101011000011010001001001111000111100011110000010001001010100010111\n"
     ]
    }
   ],
   "source": [
    "print(f\"a: {bitstring(a)}\")"
   ]
  },
  {
   "cell_type": "code",
   "execution_count": 27,
   "metadata": {},
   "outputs": [
    {
     "data": {
      "text/plain": [
       "'111111111111110101110111111111111111111111111011101111011111111111111111111'"
      ]
     },
     "execution_count": 27,
     "metadata": {},
     "output_type": "execute_result"
    }
   ],
   "source": [
    "bitstring(outcomes)"
   ]
  },
  {
   "cell_type": "code",
   "execution_count": 29,
   "metadata": {},
   "outputs": [],
   "source": [
    "win_percent = len([ e for e in outcomes if e ]) * 100 / repetitions"
   ]
  },
  {
   "cell_type": "code",
   "execution_count": 30,
   "metadata": {},
   "outputs": [
    {
     "data": {
      "text/plain": [
       "92.0"
      ]
     },
     "execution_count": 30,
     "metadata": {},
     "output_type": "execute_result"
    }
   ],
   "source": [
    "win_percent"
   ]
  }
 ],
 "metadata": {
  "kernelspec": {
   "display_name": "Python 3",
   "language": "python",
   "name": "python3"
  },
  "language_info": {
   "codemirror_mode": {
    "name": "ipython",
    "version": 3
   },
   "file_extension": ".py",
   "mimetype": "text/x-python",
   "name": "python",
   "nbconvert_exporter": "python",
   "pygments_lexer": "ipython3",
   "version": "3.8.5"
  }
 },
 "nbformat": 4,
 "nbformat_minor": 4
}

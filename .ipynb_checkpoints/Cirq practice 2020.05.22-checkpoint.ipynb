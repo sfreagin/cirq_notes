{
 "cells": [
  {
   "cell_type": "code",
   "execution_count": 4,
   "metadata": {},
   "outputs": [
    {
     "name": "stdout",
     "output_type": "stream",
     "text": [
      "Circuit:\n",
      "(0, 0): ───X^0.5───M('m')───\n",
      "Results:\n",
      "m=00000101010000110110\n"
     ]
    }
   ],
   "source": [
    "#creating and simulating a simple qubit\n",
    "\n",
    "import cirq\n",
    "\n",
    "def main():\n",
    "    # Pick a qubit\n",
    "    qubit = cirq.GridQubit(0,0)\n",
    "    \n",
    "    # Create a circuit\n",
    "    circuit = cirq.Circuit(\n",
    "    cirq.X(qubit)**0.5,    # square root of NOT\n",
    "    cirq.measure(qubit, key = \"m\")    # measurement\n",
    "    )\n",
    "    print(\"Circuit:\")\n",
    "    print(circuit)\n",
    "    \n",
    "    # Simulate the circuit several times\n",
    "    simulator = cirq.Simulator()\n",
    "    result = simulator.run(circuit, repetitions = 20)\n",
    "    print(\"Results:\")\n",
    "    print(result)\n",
    "    \n",
    "if __name__ == '__main__':\n",
    "    main()\n",
    "    "
   ]
  },
  {
   "cell_type": "code",
   "execution_count": 11,
   "metadata": {},
   "outputs": [
    {
     "name": "stdout",
     "output_type": "stream",
     "text": [
      "Secret function:\n",
      "f(x) = <0,4>\n",
      "Circuit:\n",
      "0: ───H───@───H───M('result')───\n",
      "          │\n",
      "1: ───X───X─────────────────────\n",
      "Result of f(0)⊕f(1):\n",
      "result=1\n"
     ]
    }
   ],
   "source": [
    "# Deutsch algorithm\n",
    "\n",
    "import random\n",
    "import cirq\n",
    "from cirq import H, X, CNOT, measure\n",
    "\n",
    "def main():\n",
    "    # Choose qubits to use\n",
    "    q0, q1 = cirq.LineQubit.range(2)\n",
    "    \n",
    "    # Pick a secret 2-bit function and create a circuit to query the oracle\n",
    "    secret_function = [random.randint(0,12) for _ in range(2)]\n",
    "    oracle = make_oracle(q0, q1, secret_function)\n",
    "    print('Secret function:\\nf(x) = <{}>'.format(\n",
    "    ','.join(str(e) for e in secret_function)))\n",
    "    \n",
    "    # Embed the oracle into a quantum circuit querying it exactly once\n",
    "    circuit = make_deutsch_circuit(q0, q1, oracle)\n",
    "    print(\"Circuit:\")\n",
    "    print(circuit)\n",
    "        \n",
    "    # Simulate the circuit\n",
    "    simulator = cirq.Simulator()\n",
    "    result = simulator.run(circuit)\n",
    "    print('Result of f(0)⊕f(1):')\n",
    "    print(result)\n",
    "    \n",
    "def make_oracle(q0, q1, secret_function):\n",
    "    \"\"\" Gates implementing the secret function f(x)\"\"\"\n",
    "    \n",
    "    # coverage: ignore\n",
    "    if secret_function[0]:\n",
    "        yield[CNOT(q0, q1), X(q1)]\n",
    "    \n",
    "    if secret_function[1]:\n",
    "        yield CNOT(q0, q1)\n",
    "    \n",
    "    \n",
    "def make_deutsch_circuit(q0, q1, oracle):\n",
    "    c = cirq.Circuit()\n",
    "    \n",
    "    # Initialize qubits\n",
    "    c.append([X(q1), H(q0)])\n",
    "    \n",
    "    # Query oracle\n",
    "    c.append(oracle)\n",
    "    \n",
    "    # Measure in X basis\n",
    "    c.append([H(q0), measure(q0, key = 'result')])\n",
    "    return c\n",
    "\n",
    "if __name__ == '__main__':\n",
    "    main()\n",
    "    "
   ]
  },
  {
   "cell_type": "code",
   "execution_count": null,
   "metadata": {},
   "outputs": [],
   "source": []
  }
 ],
 "metadata": {
  "kernelspec": {
   "display_name": "Python 3",
   "language": "python",
   "name": "python3"
  },
  "language_info": {
   "codemirror_mode": {
    "name": "ipython",
    "version": 3
   },
   "file_extension": ".py",
   "mimetype": "text/x-python",
   "name": "python",
   "nbconvert_exporter": "python",
   "pygments_lexer": "ipython3",
   "version": "3.7.4"
  }
 },
 "nbformat": 4,
 "nbformat_minor": 2
}

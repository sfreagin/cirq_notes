{
 "cells": [
  {
   "cell_type": "markdown",
   "metadata": {},
   "source": [
    "Source: https://github.com/quantumlib/Cirq/blob/master/examples/deutsch.py"
   ]
  },
  {
   "cell_type": "code",
   "execution_count": 2,
   "metadata": {},
   "outputs": [],
   "source": [
    "import random\n",
    "import cirq\n",
    "from cirq import H, X, CNOT, measure"
   ]
  },
  {
   "cell_type": "code",
   "execution_count": 76,
   "metadata": {},
   "outputs": [],
   "source": [
    "#defining an oracle function\n",
    "\n",
    "def make_oracle(q0, q1, secret_function):\n",
    "    if secret_function[0]:\n",
    "        yield [CNOT(q0,q1), X(q1)]\n",
    "    \n",
    "    if secret_function[1]:\n",
    "        yield CNOT(q0,q1)"
   ]
  },
  {
   "cell_type": "code",
   "execution_count": 77,
   "metadata": {},
   "outputs": [],
   "source": [
    "# defining a Deutsch circuit\n",
    "# this takes 2 qubits and applies the appropriate X and Hadamard gates\n",
    "\n",
    "def make_deutsch_circuit(q0, q1, oracle):\n",
    "    #instantiate a circuit\n",
    "    c = cirq.Circuit()\n",
    "    \n",
    "    #initialize qubits, query oracle, measure in X basis\n",
    "    c.append([X(q1), H(q1), H(q0)])\n",
    "    c.append(oracle)\n",
    "    c.append([H(q0), measure(q0, key='result')])\n",
    "    return c"
   ]
  },
  {
   "cell_type": "code",
   "execution_count": 90,
   "metadata": {},
   "outputs": [],
   "source": [
    "# putting the bottom 4 cells below together into one main function\n",
    "\n",
    "def main():\n",
    "    #create qubits\n",
    "    q0, q1 = cirq.LineQubit.range(2)\n",
    "    \n",
    "    #pick a secret 2-qubit function and create a circuit to query the oracle\n",
    "    secret_function = [ random.randint(0,1) for i in range(2) ]\n",
    "    oracle = make_oracle(q0,q1,secret_function)\n",
    "    \n",
    "    print(f\"Initial result:\\n{','.join(str(e) for e in secret_function)}\\n\")\n",
    "    \n",
    "    #embed the oracle into a quantum circuit, querying exactly once\n",
    "    circuit = make_deutsch_circuit(q0,q1,oracle)\n",
    "    print(f\"Circuit:\\n{circuit}\\n\")\n",
    "    \n",
    "    #simulate the circuit\n",
    "    simulator = cirq.Simulator()\n",
    "    result = simulator.run(circuit)\n",
    "    \n",
    "    print(f\"Final simulator result:\\n{result}\")"
   ]
  },
  {
   "cell_type": "code",
   "execution_count": 91,
   "metadata": {},
   "outputs": [
    {
     "name": "stdout",
     "output_type": "stream",
     "text": [
      "Initial result:\n",
      "0,1\n",
      "\n",
      "Circuit:\n",
      "0: ───H───────@───H───M('result')───\n",
      "              │\n",
      "1: ───X───H───X─────────────────────\n",
      "\n",
      "Final simulator result:\n",
      "result=1\n"
     ]
    }
   ],
   "source": [
    "main()"
   ]
  },
  {
   "cell_type": "code",
   "execution_count": null,
   "metadata": {},
   "outputs": [],
   "source": []
  },
  {
   "cell_type": "code",
   "execution_count": null,
   "metadata": {},
   "outputs": [],
   "source": []
  },
  {
   "cell_type": "code",
   "execution_count": null,
   "metadata": {},
   "outputs": [],
   "source": []
  },
  {
   "cell_type": "code",
   "execution_count": null,
   "metadata": {},
   "outputs": [],
   "source": []
  },
  {
   "cell_type": "code",
   "execution_count": 43,
   "metadata": {},
   "outputs": [],
   "source": [
    "# create qubits\n",
    "q0, q1 = cirq.LineQubit.range(2)"
   ]
  },
  {
   "cell_type": "code",
   "execution_count": 44,
   "metadata": {
    "collapsed": true,
    "jupyter": {
     "outputs_hidden": true
    }
   },
   "outputs": [
    {
     "data": {
      "text/plain": [
       "'0, 1'"
      ]
     },
     "execution_count": 44,
     "metadata": {},
     "output_type": "execute_result"
    }
   ],
   "source": [
    "# pick a secret 2-bit function and create a circuit to query the oracle\n",
    "\n",
    "secret_function = [ random.randint(0,1) for i in range(2) ]\n",
    "oracle = make_oracle(q0,q1, secret_function)\n",
    "\n",
    "', '.join(str(e) for e in secret_function)"
   ]
  },
  {
   "cell_type": "code",
   "execution_count": 45,
   "metadata": {
    "collapsed": true,
    "jupyter": {
     "outputs_hidden": true
    }
   },
   "outputs": [
    {
     "data": {
      "text/html": [
       "<pre style=\"overflow: auto; white-space: pre;\">0: ───H───────@───H───M(&#x27;result&#x27;)───\n",
       "              │\n",
       "1: ───X───H───X─────────────────────</pre>"
      ],
      "text/plain": [
       "0: ───H───────@───H───M('result')───\n",
       "              │\n",
       "1: ───X───H───X─────────────────────"
      ]
     },
     "execution_count": 45,
     "metadata": {},
     "output_type": "execute_result"
    }
   ],
   "source": [
    "#embed the oracle into a quantum circuit, querying exactly once\n",
    "circuit = make_deutsch_circuit(q0, q1, oracle)\n",
    "\n",
    "circuit"
   ]
  },
  {
   "cell_type": "code",
   "execution_count": 46,
   "metadata": {},
   "outputs": [
    {
     "data": {
      "text/plain": [
       "result=1"
      ]
     },
     "execution_count": 46,
     "metadata": {},
     "output_type": "execute_result"
    }
   ],
   "source": [
    "# simulate the circuit\n",
    "simulator = cirq.Simulator()\n",
    "result = simulator.run(circuit)\n",
    "\n",
    "result"
   ]
  }
 ],
 "metadata": {
  "kernelspec": {
   "display_name": "Python 3",
   "language": "python",
   "name": "python3"
  },
  "language_info": {
   "codemirror_mode": {
    "name": "ipython",
    "version": 3
   },
   "file_extension": ".py",
   "mimetype": "text/x-python",
   "name": "python",
   "nbconvert_exporter": "python",
   "pygments_lexer": "ipython3",
   "version": "3.8.5"
  }
 },
 "nbformat": 4,
 "nbformat_minor": 4
}

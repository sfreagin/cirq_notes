{
 "cells": [
  {
   "cell_type": "markdown",
   "metadata": {},
   "source": [
    "Source: https://github.com/quantumlib/Cirq/blob/master/examples/bernstein_vazirani.py"
   ]
  },
  {
   "cell_type": "code",
   "execution_count": 1,
   "metadata": {},
   "outputs": [],
   "source": [
    "import random\n",
    "import cirq"
   ]
  },
  {
   "cell_type": "code",
   "execution_count": 3,
   "metadata": {},
   "outputs": [],
   "source": [
    "#creating an oracle\n",
    "#this implements the function f(a) = a*factors + bias(mod 2)\n",
    "\n",
    "def make_oracle(input_qubits, output_qubit, secret_factor_bits, secret_bias_bit):\n",
    "\n",
    "    if secret_bias_bit:\n",
    "        yield cirq.X(output_qubit)\n",
    "    \n",
    "    for qubit, bit in zip(input_qubits, secret_factor_bits):\n",
    "        if bit:\n",
    "            yield cirq.CNOT(qubit, output_qubit)"
   ]
  },
  {
   "cell_type": "code",
   "execution_count": 4,
   "metadata": {},
   "outputs": [],
   "source": [
    "#create the Bernstein-Vazirani algorithm\n",
    "#this solves for factors in f(a) = a*factors + bias(mod 2) with one query\n",
    "\n",
    "def make_bernstein_vazirani(input_qubits, output_qubit, oracle):\n",
    "        #instantiate circuit, initialize qubits\n",
    "        c = cirq.Circuit()\n",
    "        c.append([ cirq.X(output_qubit),\n",
    "                   cirq.H(output_qubit),\n",
    "                   cirq.H.on_each(*input_qubits)])\n",
    "        \n",
    "        # query oracle, measure in X basis\n",
    "        c.append(oracle)\n",
    "        c.append([cirq.H.on_each(*input_qubits), \n",
    "                  cirq.measure(*input_qubits,key='result')])\n",
    "        \n",
    "        return c"
   ]
  },
  {
   "cell_type": "code",
   "execution_count": 6,
   "metadata": {},
   "outputs": [],
   "source": [
    "#defining the bitstring\n",
    "\n",
    "def bitstring(bits):\n",
    "    return ''.join(str(int(b)) for b in bits)"
   ]
  },
  {
   "cell_type": "code",
   "execution_count": 57,
   "metadata": {},
   "outputs": [],
   "source": [
    "def main(qubit_count = 8):\n",
    "    circuit_sample_count = 3\n",
    "    \n",
    "    #choose qubits to use\n",
    "    input_qubits = [ cirq.GridQubit(i,0) for i in range(qubit_count) ]\n",
    "    output_qubit = cirq.GridQubit(qubit_count, 0)\n",
    "    \n",
    "    #pick coefficients for the oracle, create circuit to query it\n",
    "    secret_bias_bit = random.randint(0,1)\n",
    "    secret_factor_bits = [ random.randint(0,1) for i in range(qubit_count) ]\n",
    "    oracle = make_oracle(input_qubits, output_qubit, secret_factor_bits, secret_bias_bit)\n",
    "    \n",
    "    print(f\"Secret function:\\n{', '.join(str(e) for e in secret_factor_bits)}\\n\")\n",
    "    print(f\"Secret bias bit:\\n{secret_bias_bit}\\n\")\n",
    "    \n",
    "    #embed oracle into a quantum circuit, query it exactly once\n",
    "    circuit = make_bernstein_vazirani(input_qubits, output_qubit, oracle)\n",
    "    print(f\"Circuit:\\n{circuit}\\n\")\n",
    "    \n",
    "    #sample from the circuit a few times\n",
    "    simulator = cirq.Simulator()\n",
    "    result = simulator.run(circuit, repetitions = circuit_sample_count)\n",
    "    frequencies = result.histogram(key='result', fold_func = bitstring)\n",
    "    print(f\"Sampled results:\\n{frequencies}\\n\")\n",
    "    \n",
    "    #check whether we actually found the secret value\n",
    "    most_common_bitstring = frequencies.most_common(1)[0][0]\n",
    "    print(f\"Most common bitstring matching secret factors?\\n{most_common_bitstring == bitstring(secret_factor_bits)}\")"
   ]
  },
  {
   "cell_type": "code",
   "execution_count": 61,
   "metadata": {},
   "outputs": [
    {
     "name": "stdout",
     "output_type": "stream",
     "text": [
      "Secret function:\n",
      "1, 0, 0, 1, 0, 0, 1, 0\n",
      "\n",
      "Secret bias bit:\n",
      "1\n",
      "\n",
      "Circuit:\n",
      "(0, 0): ───H───────────@───H───────────M('result')───\n",
      "                       │               │\n",
      "(1, 0): ───H───H───────┼───────────────M─────────────\n",
      "                       │               │\n",
      "(2, 0): ───H───H───────┼───────────────M─────────────\n",
      "                       │               │\n",
      "(3, 0): ───H───────────┼───@───H───────M─────────────\n",
      "                       │   │           │\n",
      "(4, 0): ───H───H───────┼───┼───────────M─────────────\n",
      "                       │   │           │\n",
      "(5, 0): ───H───H───────┼───┼───────────M─────────────\n",
      "                       │   │           │\n",
      "(6, 0): ───H───────────┼───┼───@───H───M─────────────\n",
      "                       │   │   │       │\n",
      "(7, 0): ───H───H───────┼───┼───┼───────M─────────────\n",
      "                       │   │   │\n",
      "(8, 0): ───X───H───X───X───X───X─────────────────────\n",
      "\n",
      "Sampled results:\n",
      "Counter({'10010010': 3})\n",
      "\n",
      "Most common bitstring matching secret factors?\n",
      "True\n"
     ]
    }
   ],
   "source": [
    "main()"
   ]
  },
  {
   "cell_type": "code",
   "execution_count": null,
   "metadata": {},
   "outputs": [],
   "source": []
  },
  {
   "cell_type": "code",
   "execution_count": null,
   "metadata": {},
   "outputs": [],
   "source": []
  },
  {
   "cell_type": "code",
   "execution_count": null,
   "metadata": {},
   "outputs": [],
   "source": []
  },
  {
   "cell_type": "code",
   "execution_count": null,
   "metadata": {},
   "outputs": [],
   "source": []
  },
  {
   "cell_type": "code",
   "execution_count": 12,
   "metadata": {},
   "outputs": [],
   "source": [
    "qubit_count = 8"
   ]
  },
  {
   "cell_type": "code",
   "execution_count": 40,
   "metadata": {},
   "outputs": [],
   "source": [
    "circuit_sample_count = 10"
   ]
  },
  {
   "cell_type": "code",
   "execution_count": 41,
   "metadata": {},
   "outputs": [],
   "source": [
    "#choose qubits to use\n",
    "input_qubits = [ cirq.GridQubit(i,0) for i in range(qubit_count) ]\n",
    "output_qubit = cirq.GridQubit(qubit_count, 0)"
   ]
  },
  {
   "cell_type": "code",
   "execution_count": 42,
   "metadata": {},
   "outputs": [],
   "source": [
    "#pick coefficients for the oracle, create circuit to query it\n",
    "secret_bias_bit = random.randint(0,1)\n",
    "secret_factor_bits = [ random.randint(0,1) for i in range(qubit_count) ]"
   ]
  },
  {
   "cell_type": "code",
   "execution_count": 43,
   "metadata": {},
   "outputs": [],
   "source": [
    "oracle = make_oracle(input_qubits, output_qubit, secret_factor_bits, secret_bias_bit)"
   ]
  },
  {
   "cell_type": "code",
   "execution_count": 44,
   "metadata": {},
   "outputs": [
    {
     "data": {
      "text/plain": [
       "'0, 1, 0, 0, 0, 0, 1, 1'"
      ]
     },
     "execution_count": 44,
     "metadata": {},
     "output_type": "execute_result"
    }
   ],
   "source": [
    "', '.join(str(e) for e in secret_factor_bits)"
   ]
  },
  {
   "cell_type": "code",
   "execution_count": 45,
   "metadata": {},
   "outputs": [
    {
     "data": {
      "text/html": [
       "<pre style=\"overflow: auto; white-space: pre;\">(0, 0): ───H───H───────────────────────M(&#x27;result&#x27;)───\n",
       "                                       │\n",
       "(1, 0): ───H───────────@───H───────────M─────────────\n",
       "                       │               │\n",
       "(2, 0): ───H───H───────┼───────────────M─────────────\n",
       "                       │               │\n",
       "(3, 0): ───H───H───────┼───────────────M─────────────\n",
       "                       │               │\n",
       "(4, 0): ───H───H───────┼───────────────M─────────────\n",
       "                       │               │\n",
       "(5, 0): ───H───H───────┼───────────────M─────────────\n",
       "                       │               │\n",
       "(6, 0): ───H───────────┼───@───H───────M─────────────\n",
       "                       │   │           │\n",
       "(7, 0): ───H───────────┼───┼───@───H───M─────────────\n",
       "                       │   │   │\n",
       "(8, 0): ───X───H───X───X───X───X─────────────────────</pre>"
      ],
      "text/plain": [
       "(0, 0): ───H───H───────────────────────M('result')───\n",
       "                                       │\n",
       "(1, 0): ───H───────────@───H───────────M─────────────\n",
       "                       │               │\n",
       "(2, 0): ───H───H───────┼───────────────M─────────────\n",
       "                       │               │\n",
       "(3, 0): ───H───H───────┼───────────────M─────────────\n",
       "                       │               │\n",
       "(4, 0): ───H───H───────┼───────────────M─────────────\n",
       "                       │               │\n",
       "(5, 0): ───H───H───────┼───────────────M─────────────\n",
       "                       │               │\n",
       "(6, 0): ───H───────────┼───@───H───────M─────────────\n",
       "                       │   │           │\n",
       "(7, 0): ───H───────────┼───┼───@───H───M─────────────\n",
       "                       │   │   │\n",
       "(8, 0): ───X───H───X───X───X───X─────────────────────"
      ]
     },
     "execution_count": 45,
     "metadata": {},
     "output_type": "execute_result"
    }
   ],
   "source": [
    "#embed the oracle into a special quantum circuit, querying it exactly once\n",
    "\n",
    "circuit = make_bernstein_vazirani(input_qubits, output_qubit, oracle)\n",
    "circuit"
   ]
  },
  {
   "cell_type": "code",
   "execution_count": 46,
   "metadata": {},
   "outputs": [
    {
     "data": {
      "text/plain": [
       "Counter({'01000011': 10})"
      ]
     },
     "execution_count": 46,
     "metadata": {},
     "output_type": "execute_result"
    }
   ],
   "source": [
    "#simulate and sample the circuit multiple times\n",
    "simulator = cirq.Simulator()\n",
    "result = simulator.run(circuit, repetitions = circuit_sample_count)\n",
    "frequencies = result.histogram(key = 'result', fold_func = bitstring)\n",
    "\n",
    "frequencies"
   ]
  },
  {
   "cell_type": "code",
   "execution_count": 47,
   "metadata": {},
   "outputs": [
    {
     "data": {
      "text/plain": [
       "'01000011'"
      ]
     },
     "execution_count": 47,
     "metadata": {},
     "output_type": "execute_result"
    }
   ],
   "source": [
    "#check whether or not we found the secret value\n",
    "\n",
    "most_common_bitstring = frequencies.most_common(1)[0][0]\n",
    "\n",
    "most_common_bitstring"
   ]
  },
  {
   "cell_type": "code",
   "execution_count": 48,
   "metadata": {},
   "outputs": [
    {
     "data": {
      "text/plain": [
       "[('01000011', 10)]"
      ]
     },
     "execution_count": 48,
     "metadata": {},
     "output_type": "execute_result"
    }
   ],
   "source": [
    "frequencies.most_common(1)"
   ]
  },
  {
   "cell_type": "code",
   "execution_count": null,
   "metadata": {},
   "outputs": [],
   "source": []
  }
 ],
 "metadata": {
  "kernelspec": {
   "display_name": "Python 3",
   "language": "python",
   "name": "python3"
  },
  "language_info": {
   "codemirror_mode": {
    "name": "ipython",
    "version": 3
   },
   "file_extension": ".py",
   "mimetype": "text/x-python",
   "name": "python",
   "nbconvert_exporter": "python",
   "pygments_lexer": "ipython3",
   "version": "3.8.5"
  }
 },
 "nbformat": 4,
 "nbformat_minor": 4
}

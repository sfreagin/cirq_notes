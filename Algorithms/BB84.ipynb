{
 "cells": [
  {
   "cell_type": "code",
   "execution_count": 1,
   "metadata": {},
   "outputs": [],
   "source": [
    "import numpy as np\n",
    "import cirq "
   ]
  },
  {
   "cell_type": "code",
   "execution_count": 29,
   "metadata": {},
   "outputs": [],
   "source": [
    "def make_bb84_circ(num_qubits, alice_basis, bob_basis, alice_state):\n",
    "    \n",
    "    qubits = [ cirq.LineQubit(i) for i in range(num_qubits) ]\n",
    "    circuit = cirq.Circuit()\n",
    "    \n",
    "    #Alice prepares qubits\n",
    "    alice_enc = []\n",
    "    for index, i in enumerate(alice_basis):\n",
    "        if alice_state[index] == 1:\n",
    "            alice_enc.append(cirq.X(qubits[index]))\n",
    "        if alice_basis[index] == 1:\n",
    "            alice_enc.append(cirq.H(qubits[index]))\n",
    "    \n",
    "    circuit.append(alice_enc)\n",
    "    \n",
    "    #Bob measures received qubits\n",
    "    bob_basis_choice = []\n",
    "    for index, i in enumerate(bob_basis):\n",
    "        if bob_basis == 1:\n",
    "            bob_basis_choice.append(cirq.H(qubits[index]))\n",
    "    \n",
    "    circuit.append(bob_basis_choice)\n",
    "    circuit.append(cirq.measure_each(*qubits))\n",
    "    \n",
    "    return circuit"
   ]
  },
  {
   "cell_type": "code",
   "execution_count": 30,
   "metadata": {},
   "outputs": [],
   "source": [
    "def bitstrings(bits):\n",
    "    return ''.join(str(int(b)) for b in bits)"
   ]
  },
  {
   "cell_type": "code",
   "execution_count": 67,
   "metadata": {},
   "outputs": [],
   "source": [
    "def print_results(alice_basis, bob_basis, alice_state, expected_key, obtained_key):\n",
    "    num_qubits = len(alice_basis)\n",
    "    basis_match = ''.join(\n",
    "            ['X' if alice_basis[i] == bob_basis[i] else '_' for i in range(num_qubits)])\n",
    "    \n",
    "    alice_basis_str = ''.join(['C' if alice_basis[i] == 0 else 'H' for i in range(num_qubits)])\n",
    "    bob_basis_str = ''.join(['C' if bob_basis[i] == 0 else 'H' for i in range(num_qubits)])\n",
    "    \n",
    "    print(f\"Alice basis: {alice_basis_str}\")\n",
    "    print(f\"Bob basis: {bob_basis_str}\")\n",
    "    print(f\"Alice bits: {bitstrings(alice_state)}\")\n",
    "    print(f\"Bases match: {basis_match}\")\n",
    "    print(f\"Expected key: {expected_key}\")\n",
    "    print(f\"Actual key: {obtained_key}\")"
   ]
  },
  {
   "cell_type": "code",
   "execution_count": 109,
   "metadata": {},
   "outputs": [],
   "source": [
    "def main(num_qubits = 8):\n",
    "    #set up non-eavesdropped protocol\n",
    "    print(\"Simulating non-eavesdropped protocol\")\n",
    "    alice_basis = [np.random.randint(0,2) for i in range(num_qubits)]\n",
    "    alice_state = [np.random.randint(0,2) for i in range(num_qubits)]\n",
    "    bob_basis = [np.random.randint(0,2) for i in range(num_qubits)]\n",
    "    \n",
    "    expected_key = bitstrings(\n",
    "            [alice_state[i] for i in range(num_qubits) if alice_basis[i] == bob_basis[i]])\n",
    "    \n",
    "    circuit = make_bb84_circ(num_qubits, alice_basis, bob_basis, alice_state)\n",
    "    \n",
    "    #run simulations\n",
    "    repetitions = 1\n",
    "    result = cirq.Simulator().run(program = circuit, repetitions=repetitions)\n",
    "    result_bitstring = bitstrings([int(result.measurements[str(i)]) for i in range(num_qubits)])\n",
    "    \n",
    "    #take only qubits where bases match\n",
    "    obtained_key = ''.join(\n",
    "            [result_bitstring[i] for i in range(num_qubits) if alice_basis[i] == bob_basis[i]])\n",
    "    \n",
    "    assert expected_key == obtained_key, \"Keys don't match\"\n",
    "    print(circuit)\n",
    "    print_results(alice_basis, bob_basis, alice_state, expected_key, obtained_key)\n",
    "    \n",
    "    #set up eavesdropped protocol\n",
    "    print(\"Simulating eavesdropped protocol\")\n",
    "    alice_basis = [np.random.randint(0,2) for i in range(num_qubits)]\n",
    "    alice_state = [np.random.randint(0,2) for i in range(num_qubits)]\n",
    "    bob_basis = [np.random.randint(0,2) for i in range(num_qubits)]\n",
    "    eve_basis = [np.random.randint(0,2) for i in range(num_qubits)]\n",
    "    \n",
    "    expected_key = bitstrings(\n",
    "            [alice_state[i] for i in range(num_qubits) if alice_basis[i] == bob_basis[i]])\n",
    "    \n",
    "    #Eve intercepts qubits\n",
    "    alice_eve_circuit = make_bb84_circ(num_qubits, alice_basis, eve_basis, alice_state)\n",
    "    \n",
    "    #run simulations\n",
    "    repetitions = 1\n",
    "    result = cirq.Simulator().run(program=alice_eve_circuit, repetitions = repetitions)\n",
    "    eve_state = [int(result.measurements[str(i)]) for i in range(num_qubits)]\n",
    "    \n",
    "    eve_bob_circuit = make_bb84_circ(num_qubits, eve_basis, bob_basis, eve_state)\n",
    "    \n",
    "    #run simulations\n",
    "    repetitions = 1\n",
    "    result = cirq.Simulator().run(program=eve_bob_circuit, repetitions=repetitions)\n",
    "    result_bitstring = bitstrings([int(result.measurements[str(i)]) for i in range(num_qubits)])\n",
    "    \n",
    "    #take only qubits where bases match\n",
    "    obtained_key = ''.join(\n",
    "            [result_bitstring[i] for i in range(num_qubits) if alice_basis[i] == bob_basis[i]])\n",
    "    \n",
    "    assert expected_key != obtained_key, \"Keys shouldn't match\"\n",
    "    \n",
    "    circuit = alice_eve_circuit + eve_bob_circuit\n",
    "    print(circuit)\n",
    "    print_results(alice_basis, bob_basis, alice_state, expected_key, obtained_key)"
   ]
  },
  {
   "cell_type": "code",
   "execution_count": 110,
   "metadata": {},
   "outputs": [
    {
     "name": "stdout",
     "output_type": "stream",
     "text": [
      "Simulating non-eavesdropped protocol\n",
      "0: ───X───H───M───\n",
      "\n",
      "1: ───M───────────\n",
      "\n",
      "2: ───M───────────\n",
      "\n",
      "3: ───X───M───────\n",
      "\n",
      "4: ───M───────────\n",
      "\n",
      "5: ───M───────────\n",
      "\n",
      "6: ───H───M───────\n",
      "\n",
      "7: ───X───M───────\n",
      "Alice basis: HCCCCCHC\n",
      "Bob basis: HHHHCHCC\n",
      "Alice bits: 10010001\n",
      "Bases match: X___X__X\n",
      "Expected key: 101\n",
      "Actual key: 101\n",
      "Simulating eavesdropped protocol\n",
      "0: ───X───H───M───X───H───M───\n",
      "\n",
      "1: ───X───H───M───X───H───M───\n",
      "\n",
      "2: ───X───M───────X───M───────\n",
      "\n",
      "3: ───H───M───────H───M───────\n",
      "\n",
      "4: ───X───M───────X───H───M───\n",
      "\n",
      "5: ───X───H───M───M───────────\n",
      "\n",
      "6: ───H───M───────X───M───────\n",
      "\n",
      "7: ───M───────────M───────────\n",
      "Alice basis: HHCHCHHC\n",
      "Bob basis: HHCCCHCC\n",
      "Alice bits: 11101100\n",
      "Bases match: XXX_XX_X\n",
      "Expected key: 111110\n",
      "Actual key: 111100\n"
     ]
    }
   ],
   "source": [
    "main()"
   ]
  },
  {
   "cell_type": "markdown",
   "metadata": {},
   "source": []
  },
  {
   "cell_type": "code",
   "execution_count": null,
   "metadata": {},
   "outputs": [],
   "source": []
  },
  {
   "cell_type": "code",
   "execution_count": null,
   "metadata": {},
   "outputs": [],
   "source": []
  },
  {
   "cell_type": "code",
   "execution_count": null,
   "metadata": {},
   "outputs": [],
   "source": []
  },
  {
   "cell_type": "code",
   "execution_count": 68,
   "metadata": {},
   "outputs": [],
   "source": [
    "num_qubits = 8"
   ]
  },
  {
   "cell_type": "code",
   "execution_count": 69,
   "metadata": {},
   "outputs": [
    {
     "data": {
      "text/plain": [
       "'11'"
      ]
     },
     "execution_count": 69,
     "metadata": {},
     "output_type": "execute_result"
    }
   ],
   "source": [
    "#set up non-eavesdropped protocol\n",
    "alice_basis = [np.random.randint(0,2) for i in range(num_qubits)]\n",
    "alice_state = [np.random.randint(0,2) for i in range(num_qubits)]\n",
    "bob_basis = [np.random.randint(0,2) for i in range(num_qubits)]\n",
    "\n",
    "expected_key = bitstrings(\n",
    "    [ alice_state[i] for i in range(num_qubits) if alice_basis[i] == bob_basis[i] ])\n",
    "\n",
    "expected_key"
   ]
  },
  {
   "cell_type": "code",
   "execution_count": 70,
   "metadata": {},
   "outputs": [
    {
     "data": {
      "text/html": [
       "<pre style=\"overflow: auto; white-space: pre;\">0: ───X───M───────\n",
       "\n",
       "1: ───M───────────\n",
       "\n",
       "2: ───X───M───────\n",
       "\n",
       "3: ───X───M───────\n",
       "\n",
       "4: ───X───H───M───\n",
       "\n",
       "5: ───X───M───────\n",
       "\n",
       "6: ───H───M───────\n",
       "\n",
       "7: ───X───H───M───</pre>"
      ],
      "text/plain": [
       "0: ───X───M───────\n",
       "\n",
       "1: ───M───────────\n",
       "\n",
       "2: ───X───M───────\n",
       "\n",
       "3: ───X───M───────\n",
       "\n",
       "4: ───X───H───M───\n",
       "\n",
       "5: ───X───M───────\n",
       "\n",
       "6: ───H───M───────\n",
       "\n",
       "7: ───X───H───M───"
      ]
     },
     "execution_count": 70,
     "metadata": {},
     "output_type": "execute_result"
    }
   ],
   "source": [
    "circuit = make_bb84_circ(num_qubits, alice_basis, bob_basis, alice_state)\n",
    "circuit"
   ]
  },
  {
   "cell_type": "code",
   "execution_count": 71,
   "metadata": {},
   "outputs": [
    {
     "data": {
      "text/plain": [
       "'10110101'"
      ]
     },
     "execution_count": 71,
     "metadata": {},
     "output_type": "execute_result"
    }
   ],
   "source": [
    "repetitions = 1\n",
    "\n",
    "result = cirq.Simulator().run(program=circuit, repetitions = repetitions)\n",
    "result_bitstring = bitstrings([int(result.measurements[str(i)]) for i in range(num_qubits)])\n",
    "\n",
    "result_bitstring"
   ]
  },
  {
   "cell_type": "code",
   "execution_count": 72,
   "metadata": {},
   "outputs": [
    {
     "data": {
      "text/plain": [
       "'01'"
      ]
     },
     "execution_count": 72,
     "metadata": {},
     "output_type": "execute_result"
    }
   ],
   "source": [
    "obtained_key = ''.join(\n",
    "    result_bitstring[i] for i in range(num_qubits) if alice_basis[i] == bob_basis[i])\n",
    "\n",
    "obtained_key"
   ]
  },
  {
   "cell_type": "code",
   "execution_count": 73,
   "metadata": {},
   "outputs": [
    {
     "ename": "AssertionError",
     "evalue": "Keys don't match",
     "output_type": "error",
     "traceback": [
      "\u001b[1;31m---------------------------------------------------------------------------\u001b[0m",
      "\u001b[1;31mAssertionError\u001b[0m                            Traceback (most recent call last)",
      "\u001b[1;32m<ipython-input-73-10273e0e2222>\u001b[0m in \u001b[0;36m<module>\u001b[1;34m\u001b[0m\n\u001b[1;32m----> 1\u001b[1;33m \u001b[1;32massert\u001b[0m \u001b[0mexpected_key\u001b[0m \u001b[1;33m==\u001b[0m \u001b[0mobtained_key\u001b[0m\u001b[1;33m,\u001b[0m \u001b[1;34m\"Keys don't match\"\u001b[0m\u001b[1;33m\u001b[0m\u001b[1;33m\u001b[0m\u001b[0m\n\u001b[0m",
      "\u001b[1;31mAssertionError\u001b[0m: Keys don't match"
     ]
    }
   ],
   "source": [
    "assert expected_key == obtained_key, \"Keys don't match\""
   ]
  },
  {
   "cell_type": "code",
   "execution_count": 74,
   "metadata": {},
   "outputs": [
    {
     "name": "stdout",
     "output_type": "stream",
     "text": [
      "Alice basis: CCCCHCHH\n",
      "Bob basis: HHHHHHCH\n",
      "Alice bits: 10111101\n",
      "Bases match: ____X__X\n",
      "Expected key: 11\n",
      "Actual key: 01\n"
     ]
    }
   ],
   "source": [
    "print_results(alice_basis, bob_basis, alice_state, expected_key, obtained_key)"
   ]
  },
  {
   "cell_type": "code",
   "execution_count": 82,
   "metadata": {},
   "outputs": [
    {
     "data": {
      "text/plain": [
       "'0100'"
      ]
     },
     "execution_count": 82,
     "metadata": {},
     "output_type": "execute_result"
    }
   ],
   "source": [
    "#set up eavesdropped protocol\n",
    "#np.random.seed(200)\n",
    "\n",
    "alice_basis = [np.random.randint(0,2) for i in range(num_qubits)]\n",
    "alice_state = [np.random.randint(0,2) for i in range(num_qubits)]\n",
    "bob_basis = [np.random.randint(0,2) for i in range(num_qubits)]\n",
    "eve_basis = [np.random.randint(0,2) for i in range(num_qubits)]\n",
    "\n",
    "expected_key = bitstrings(\n",
    "                [alice_state[i] for i in range(num_qubits) if alice_basis[i] == bob_basis[i]])\n",
    "\n",
    "expected_key"
   ]
  },
  {
   "cell_type": "code",
   "execution_count": 83,
   "metadata": {},
   "outputs": [
    {
     "data": {
      "text/html": [
       "<pre style=\"overflow: auto; white-space: pre;\">0: ───M───────\n",
       "\n",
       "1: ───H───M───\n",
       "\n",
       "2: ───M───────\n",
       "\n",
       "3: ───X───M───\n",
       "\n",
       "4: ───M───────\n",
       "\n",
       "5: ───X───M───\n",
       "\n",
       "6: ───H───M───\n",
       "\n",
       "7: ───M───────</pre>"
      ],
      "text/plain": [
       "0: ───M───────\n",
       "\n",
       "1: ───H───M───\n",
       "\n",
       "2: ───M───────\n",
       "\n",
       "3: ───X───M───\n",
       "\n",
       "4: ───M───────\n",
       "\n",
       "5: ───X───M───\n",
       "\n",
       "6: ───H───M───\n",
       "\n",
       "7: ───M───────"
      ]
     },
     "execution_count": 83,
     "metadata": {},
     "output_type": "execute_result"
    }
   ],
   "source": [
    "alice_eve_circuit = make_bb84_circ(num_qubits, alice_basis, eve_basis, alice_state)\n",
    "\n",
    "alice_eve_circuit"
   ]
  },
  {
   "cell_type": "code",
   "execution_count": 93,
   "metadata": {},
   "outputs": [
    {
     "data": {
      "text/plain": [
       "[0, 0, 0, 1, 0, 1, 1, 0]"
      ]
     },
     "execution_count": 93,
     "metadata": {},
     "output_type": "execute_result"
    }
   ],
   "source": [
    "repetitions = 1\n",
    "result = cirq.Simulator().run(program=alice_eve_circuit, repetitions = repetitions)\n",
    "eve_state = [int(result.measurements[str(i)]) for i in range(num_qubits)]\n",
    "\n",
    "eve_state"
   ]
  },
  {
   "cell_type": "code",
   "execution_count": 94,
   "metadata": {},
   "outputs": [
    {
     "data": {
      "text/html": [
       "<pre style=\"overflow: auto; white-space: pre;\">0: ───M───────────\n",
       "\n",
       "1: ───H───M───────\n",
       "\n",
       "2: ───H───M───────\n",
       "\n",
       "3: ───X───M───────\n",
       "\n",
       "4: ───H───M───────\n",
       "\n",
       "5: ───X───H───M───\n",
       "\n",
       "6: ───X───H───M───\n",
       "\n",
       "7: ───H───M───────</pre>"
      ],
      "text/plain": [
       "0: ───M───────────\n",
       "\n",
       "1: ───H───M───────\n",
       "\n",
       "2: ───H───M───────\n",
       "\n",
       "3: ───X───M───────\n",
       "\n",
       "4: ───H───M───────\n",
       "\n",
       "5: ───X───H───M───\n",
       "\n",
       "6: ───X───H───M───\n",
       "\n",
       "7: ───H───M───────"
      ]
     },
     "execution_count": 94,
     "metadata": {},
     "output_type": "execute_result"
    }
   ],
   "source": [
    "eve_bob_circuit = make_bb84_circ(num_qubits, eve_basis, bob_basis, eve_state)\n",
    "\n",
    "eve_bob_circuit"
   ]
  },
  {
   "cell_type": "code",
   "execution_count": 99,
   "metadata": {},
   "outputs": [
    {
     "data": {
      "text/plain": [
       "'01010111'"
      ]
     },
     "execution_count": 99,
     "metadata": {},
     "output_type": "execute_result"
    }
   ],
   "source": [
    "repetitions = 1\n",
    "result = cirq.Simulator().run(program=eve_bob_circuit, repetitions=repetitions)\n",
    "result_bitstring = bitstrings([int(result.measurements[str(i)]) for i in range(num_qubits)])\n",
    "\n",
    "result_bitstring"
   ]
  },
  {
   "cell_type": "code",
   "execution_count": 100,
   "metadata": {},
   "outputs": [],
   "source": [
    "assert expected_key != obtained_key, \"Keys shouldn't match\""
   ]
  },
  {
   "cell_type": "code",
   "execution_count": 102,
   "metadata": {},
   "outputs": [
    {
     "data": {
      "text/html": [
       "<pre style=\"overflow: auto; white-space: pre;\">0: ───M───────M───────────\n",
       "\n",
       "1: ───H───M───H───M───────\n",
       "\n",
       "2: ───M───────H───M───────\n",
       "\n",
       "3: ───X───M───X───M───────\n",
       "\n",
       "4: ───M───────H───M───────\n",
       "\n",
       "5: ───X───M───X───H───M───\n",
       "\n",
       "6: ───H───M───X───H───M───\n",
       "\n",
       "7: ───M───────H───M───────</pre>"
      ],
      "text/plain": [
       "0: ───M───────M───────────\n",
       "\n",
       "1: ───H───M───H───M───────\n",
       "\n",
       "2: ───M───────H───M───────\n",
       "\n",
       "3: ───X───M───X───M───────\n",
       "\n",
       "4: ───M───────H───M───────\n",
       "\n",
       "5: ───X───M───X───H───M───\n",
       "\n",
       "6: ───H───M───X───H───M───\n",
       "\n",
       "7: ───M───────H───M───────"
      ]
     },
     "execution_count": 102,
     "metadata": {},
     "output_type": "execute_result"
    }
   ],
   "source": [
    "circuit = alice_eve_circuit + eve_bob_circuit\n",
    "circuit"
   ]
  },
  {
   "cell_type": "code",
   "execution_count": null,
   "metadata": {},
   "outputs": [],
   "source": []
  },
  {
   "cell_type": "code",
   "execution_count": null,
   "metadata": {},
   "outputs": [],
   "source": []
  },
  {
   "cell_type": "code",
   "execution_count": null,
   "metadata": {},
   "outputs": [],
   "source": []
  },
  {
   "cell_type": "code",
   "execution_count": null,
   "metadata": {},
   "outputs": [],
   "source": []
  },
  {
   "cell_type": "code",
   "execution_count": null,
   "metadata": {},
   "outputs": [],
   "source": []
  }
 ],
 "metadata": {
  "kernelspec": {
   "display_name": "Python 3",
   "language": "python",
   "name": "python3"
  },
  "language_info": {
   "codemirror_mode": {
    "name": "ipython",
    "version": 3
   },
   "file_extension": ".py",
   "mimetype": "text/x-python",
   "name": "python",
   "nbconvert_exporter": "python",
   "pygments_lexer": "ipython3",
   "version": "3.8.5"
  }
 },
 "nbformat": 4,
 "nbformat_minor": 4
}

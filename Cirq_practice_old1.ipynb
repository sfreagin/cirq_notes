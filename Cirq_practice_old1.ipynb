{
 "cells": [
  {
   "cell_type": "code",
   "execution_count": 1,
   "metadata": {},
   "outputs": [
    {
     "name": "stdout",
     "output_type": "stream",
     "text": [
      "Requirement already satisfied: cirq in c:\\users\\sfrea\\anaconda3\\lib\\site-packages (0.7.0)\n",
      "Requirement already satisfied: typing-extensions in c:\\users\\sfrea\\anaconda3\\lib\\site-packages (from cirq) (3.7.4.2)\n",
      "Requirement already satisfied: scipy in c:\\users\\sfrea\\anaconda3\\lib\\site-packages (from cirq) (1.3.1)\n",
      "Requirement already satisfied: numpy~=1.16 in c:\\users\\sfrea\\anaconda3\\lib\\site-packages (from cirq) (1.16.5)\n",
      "Requirement already satisfied: google-api-python-client~=1.6 in c:\\users\\sfrea\\anaconda3\\lib\\site-packages (from cirq) (1.8.0)\n",
      "Requirement already satisfied: sympy==1.4 in c:\\users\\sfrea\\anaconda3\\lib\\site-packages (from cirq) (1.4)\n",
      "Requirement already satisfied: protobuf==3.8.0 in c:\\users\\sfrea\\anaconda3\\lib\\site-packages (from cirq) (3.8.0)\n",
      "Requirement already satisfied: networkx==2.3 in c:\\users\\sfrea\\anaconda3\\lib\\site-packages (from cirq) (2.3)\n",
      "Requirement already satisfied: pandas in c:\\users\\sfrea\\anaconda3\\lib\\site-packages (from cirq) (0.25.1)\n",
      "Requirement already satisfied: matplotlib~=3.0 in c:\\users\\sfrea\\anaconda3\\lib\\site-packages (from cirq) (3.1.1)\n",
      "Requirement already satisfied: requests~=2.18 in c:\\users\\sfrea\\anaconda3\\lib\\site-packages (from cirq) (2.22.0)\n",
      "Requirement already satisfied: sortedcontainers~=2.0 in c:\\users\\sfrea\\anaconda3\\lib\\site-packages (from cirq) (2.1.0)\n",
      "Requirement already satisfied: google-auth-httplib2>=0.0.3 in c:\\users\\sfrea\\anaconda3\\lib\\site-packages (from google-api-python-client~=1.6->cirq) (0.0.3)\n",
      "Requirement already satisfied: six<2dev,>=1.6.1 in c:\\users\\sfrea\\anaconda3\\lib\\site-packages (from google-api-python-client~=1.6->cirq) (1.12.0)\n",
      "Requirement already satisfied: google-auth>=1.4.1 in c:\\users\\sfrea\\anaconda3\\lib\\site-packages (from google-api-python-client~=1.6->cirq) (1.7.1)\n",
      "Requirement already satisfied: google-api-core<2dev,>=1.13.0 in c:\\users\\sfrea\\anaconda3\\lib\\site-packages (from google-api-python-client~=1.6->cirq) (1.16.0)\n",
      "Requirement already satisfied: httplib2<1dev,>=0.9.2 in c:\\users\\sfrea\\anaconda3\\lib\\site-packages (from google-api-python-client~=1.6->cirq) (0.17.2)\n",
      "Requirement already satisfied: uritemplate<4dev,>=3.0.0 in c:\\users\\sfrea\\anaconda3\\lib\\site-packages (from google-api-python-client~=1.6->cirq) (3.0.1)\n",
      "Requirement already satisfied: mpmath>=0.19 in c:\\users\\sfrea\\anaconda3\\lib\\site-packages (from sympy==1.4->cirq) (1.1.0)\n",
      "Requirement already satisfied: setuptools in c:\\users\\sfrea\\anaconda3\\lib\\site-packages (from protobuf==3.8.0->cirq) (41.4.0)\n",
      "Requirement already satisfied: decorator>=4.3.0 in c:\\users\\sfrea\\anaconda3\\lib\\site-packages (from networkx==2.3->cirq) (4.4.0)\n",
      "Requirement already satisfied: python-dateutil>=2.6.1 in c:\\users\\sfrea\\anaconda3\\lib\\site-packages (from pandas->cirq) (2.8.0)\n",
      "Requirement already satisfied: pytz>=2017.2 in c:\\users\\sfrea\\anaconda3\\lib\\site-packages (from pandas->cirq) (2019.3)\n",
      "Requirement already satisfied: cycler>=0.10 in c:\\users\\sfrea\\anaconda3\\lib\\site-packages (from matplotlib~=3.0->cirq) (0.10.0)\n",
      "Requirement already satisfied: kiwisolver>=1.0.1 in c:\\users\\sfrea\\anaconda3\\lib\\site-packages (from matplotlib~=3.0->cirq) (1.1.0)\n",
      "Requirement already satisfied: pyparsing!=2.0.4,!=2.1.2,!=2.1.6,>=2.0.1 in c:\\users\\sfrea\\anaconda3\\lib\\site-packages (from matplotlib~=3.0->cirq) (2.4.2)\n",
      "Requirement already satisfied: certifi>=2017.4.17 in c:\\users\\sfrea\\anaconda3\\lib\\site-packages (from requests~=2.18->cirq) (2019.9.11)\n",
      "Requirement already satisfied: chardet<3.1.0,>=3.0.2 in c:\\users\\sfrea\\anaconda3\\lib\\site-packages (from requests~=2.18->cirq) (3.0.4)\n",
      "Requirement already satisfied: idna<2.9,>=2.5 in c:\\users\\sfrea\\anaconda3\\lib\\site-packages (from requests~=2.18->cirq) (2.8)\n",
      "Requirement already satisfied: urllib3!=1.25.0,!=1.25.1,<1.26,>=1.21.1 in c:\\users\\sfrea\\anaconda3\\lib\\site-packages (from requests~=2.18->cirq) (1.24.2)\n",
      "Requirement already satisfied: pyasn1-modules>=0.2.1 in c:\\users\\sfrea\\anaconda3\\lib\\site-packages (from google-auth>=1.4.1->google-api-python-client~=1.6->cirq) (0.2.7)\n",
      "Requirement already satisfied: cachetools<3.2,>=2.0.0 in c:\\users\\sfrea\\anaconda3\\lib\\site-packages (from google-auth>=1.4.1->google-api-python-client~=1.6->cirq) (3.1.1)\n",
      "Requirement already satisfied: rsa<4.1,>=3.1.4 in c:\\users\\sfrea\\anaconda3\\lib\\site-packages (from google-auth>=1.4.1->google-api-python-client~=1.6->cirq) (4.0)\n",
      "Requirement already satisfied: googleapis-common-protos<2.0dev,>=1.6.0 in c:\\users\\sfrea\\anaconda3\\lib\\site-packages (from google-api-core<2dev,>=1.13.0->google-api-python-client~=1.6->cirq) (1.51.0)\n",
      "Requirement already satisfied: pyasn1<0.5.0,>=0.4.6 in c:\\users\\sfrea\\anaconda3\\lib\\site-packages (from pyasn1-modules>=0.2.1->google-auth>=1.4.1->google-api-python-client~=1.6->cirq) (0.4.8)\n"
     ]
    }
   ],
   "source": [
    "import sys\n",
    "!{sys.executable} -m pip install cirq"
   ]
  },
  {
   "cell_type": "code",
   "execution_count": 2,
   "metadata": {},
   "outputs": [],
   "source": [
    "import cirq"
   ]
  },
  {
   "cell_type": "code",
   "execution_count": null,
   "metadata": {},
   "outputs": [],
   "source": []
  }
 ],
 "metadata": {
  "kernelspec": {
   "display_name": "Python 3",
   "language": "python",
   "name": "python3"
  },
  "language_info": {
   "codemirror_mode": {
    "name": "ipython",
    "version": 3
   },
   "file_extension": ".py",
   "mimetype": "text/x-python",
   "name": "python",
   "nbconvert_exporter": "python",
   "pygments_lexer": "ipython3",
   "version": "3.7.4"
  }
 },
 "nbformat": 4,
 "nbformat_minor": 2
}

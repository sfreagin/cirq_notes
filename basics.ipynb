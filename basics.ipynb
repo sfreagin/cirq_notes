{
 "cells": [
  {
   "cell_type": "markdown",
   "metadata": {},
   "source": [
    "Source: https://quantumai.google/cirq/tutorials/basics"
   ]
  },
  {
   "cell_type": "code",
   "execution_count": 2,
   "metadata": {},
   "outputs": [],
   "source": [
    "import cirq\n",
    "import cirq_google"
   ]
  },
  {
   "cell_type": "markdown",
   "metadata": {},
   "source": [
    "Cirq has three main ways of defining qubits:\n",
    "- **cirq.NamedQubit** to label qubits by an abstract name\n",
    "- **cirq.LineQubit**  to label qubits by number in a linear array\n",
    "- **cirq.GridQubit**  to label qubits by two numbers in a rectangular lattice"
   ]
  },
  {
   "cell_type": "code",
   "execution_count": 11,
   "metadata": {},
   "outputs": [
    {
     "name": "stdout",
     "output_type": "stream",
     "text": [
      "source\n",
      "target\n"
     ]
    },
    {
     "data": {
      "text/plain": [
       "(cirq.NamedQubit('source'), cirq.NamedQubit('target'))"
      ]
     },
     "execution_count": 11,
     "metadata": {},
     "output_type": "execute_result"
    }
   ],
   "source": [
    "#named qubits are useful for abstract algorithms\n",
    "#and algorithms not yet mapped onto hardware\n",
    "\n",
    "q0 = cirq.NamedQubit('source')\n",
    "q1 = cirq.NamedQubit('target')\n",
    "\n",
    "print(q0)\n",
    "print(q1)\n",
    "\n",
    "q0, q1"
   ]
  },
  {
   "cell_type": "code",
   "execution_count": 10,
   "metadata": {},
   "outputs": [
    {
     "name": "stdout",
     "output_type": "stream",
     "text": [
      "3\n"
     ]
    },
    {
     "data": {
      "text/plain": [
       "cirq.LineQubit(3)"
      ]
     },
     "execution_count": 10,
     "metadata": {},
     "output_type": "execute_result"
    }
   ],
   "source": [
    "# line qubits can be created individually\n",
    "\n",
    "q3 = cirq.LineQubit(3)\n",
    "\n",
    "print(q3)\n",
    "q3"
   ]
  },
  {
   "cell_type": "code",
   "execution_count": 9,
   "metadata": {},
   "outputs": [
    {
     "name": "stdout",
     "output_type": "stream",
     "text": [
      "0 1 2\n"
     ]
    },
    {
     "data": {
      "text/plain": [
       "(cirq.LineQubit(0), cirq.LineQubit(1), cirq.LineQubit(2))"
      ]
     },
     "execution_count": 9,
     "metadata": {},
     "output_type": "execute_result"
    }
   ],
   "source": [
    "# line qubits can be created in a range\n",
    "# this creates LineQubit(0), LineQubit(1), LineQubit(2)\n",
    "\n",
    "q0, q1, q2 = cirq.LineQubit.range(3)\n",
    "\n",
    "print(q0,q1,q2)\n",
    "q0, q1, q2"
   ]
  },
  {
   "cell_type": "code",
   "execution_count": 14,
   "metadata": {},
   "outputs": [
    {
     "name": "stdout",
     "output_type": "stream",
     "text": [
      "(4, 5)\n"
     ]
    },
    {
     "data": {
      "text/plain": [
       "cirq.GridQubit(4, 5)"
      ]
     },
     "execution_count": 14,
     "metadata": {},
     "output_type": "execute_result"
    }
   ],
   "source": [
    "# GridQubits can be referenced individually\n",
    "\n",
    "q4_5 = cirq.GridQubit(4,5)\n",
    "\n",
    "print(q4_5)\n",
    "q4_5"
   ]
  },
  {
   "cell_type": "code",
   "execution_count": 17,
   "metadata": {},
   "outputs": [
    {
     "name": "stdout",
     "output_type": "stream",
     "text": [
      "[cirq.GridQubit(0, 0), cirq.GridQubit(0, 1), cirq.GridQubit(0, 2), cirq.GridQubit(0, 3), cirq.GridQubit(1, 0), cirq.GridQubit(1, 1), cirq.GridQubit(1, 2), cirq.GridQubit(1, 3), cirq.GridQubit(2, 0), cirq.GridQubit(2, 1), cirq.GridQubit(2, 2), cirq.GridQubit(2, 3), cirq.GridQubit(3, 0), cirq.GridQubit(3, 1), cirq.GridQubit(3, 2), cirq.GridQubit(3, 3)]\n"
     ]
    },
    {
     "data": {
      "text/plain": [
       "[cirq.GridQubit(0, 0),\n",
       " cirq.GridQubit(0, 1),\n",
       " cirq.GridQubit(0, 2),\n",
       " cirq.GridQubit(0, 3),\n",
       " cirq.GridQubit(1, 0),\n",
       " cirq.GridQubit(1, 1),\n",
       " cirq.GridQubit(1, 2),\n",
       " cirq.GridQubit(1, 3),\n",
       " cirq.GridQubit(2, 0),\n",
       " cirq.GridQubit(2, 1),\n",
       " cirq.GridQubit(2, 2),\n",
       " cirq.GridQubit(2, 3),\n",
       " cirq.GridQubit(3, 0),\n",
       " cirq.GridQubit(3, 1),\n",
       " cirq.GridQubit(3, 2),\n",
       " cirq.GridQubit(3, 3)]"
      ]
     },
     "execution_count": 17,
     "metadata": {},
     "output_type": "execute_result"
    }
   ],
   "source": [
    "# GridQubits can also be created in bulk in a square\n",
    "# here we create 16 qubits from (0,0) to (3,3)\n",
    "\n",
    "qubits = cirq.GridQubit.square(4)\n",
    "\n",
    "print(qubits)\n",
    "qubits"
   ]
  },
  {
   "cell_type": "markdown",
   "metadata": {},
   "source": [
    "There are pre-packaged sets of qubits called **Devices** which are qubits plus a set of rules for how they can be used. A **cirq.Device** can be used to apply adjacency rules(??) and other hardware constraints to a quantum circuit."
   ]
  },
  {
   "cell_type": "code",
   "execution_count": 19,
   "metadata": {},
   "outputs": [
    {
     "name": "stdout",
     "output_type": "stream",
     "text": [
      "(0, 0)───(0, 1)───(0, 2)───(0, 3)───(0, 4)───(0, 5)───(0, 6)───(0, 7)───(0, 8)───(0, 9)───(0, 10)\n",
      "│        │        │        │        │        │        │        │        │        │        │\n",
      "│        │        │        │        │        │        │        │        │        │        │\n",
      "(1, 0)───(1, 1)───(1, 2)───(1, 3)───(1, 4)───(1, 5)───(1, 6)───(1, 7)───(1, 8)───(1, 9)───(1, 10)\n"
     ]
    }
   ],
   "source": [
    "# this device is a 2X11 grid that mimics early Google hardware\n",
    "\n",
    "print(cirq_google.Foxtail)"
   ]
  },
  {
   "cell_type": "markdown",
   "metadata": {},
   "source": [
    "### Gates and Operations\n",
    "\n",
    "* A **Gate** is an effect that can be applied to a set of qubits\n",
    "* An **Operation** is a gate applied to a set of qubits\n",
    "\n",
    "For example, the Hadamard gate is **cirq.H** and is a gate object, whereas **cirq.H(cirq.LineQubit(1))** is an operation object representing the Hadamard gate applied to a specific qubit (line qubit number 1)\n",
    "\n",
    "The Pauli gates:\n",
    "* **cirq.X**\n",
    "* **cirq.Y**\n",
    "* **cirq.Z**\n",
    "\n",
    "Common two-qubit gates:\n",
    "* **cirq.CZ**\n",
    "* **cirq.CNOT**\n",
    "* **cirq.SWAP**\n",
    "\n",
    "There's also **cirq.measure** which is a macro to apply a measurement gate to a set of qubits.\n",
    "\n",
    "You can also [create your own gates](https://quantumai.google/cirq/gates)"
   ]
  },
  {
   "cell_type": "code",
   "execution_count": 20,
   "metadata": {},
   "outputs": [],
   "source": [
    "#example gates\n",
    "\n",
    "not_gate = cirq.CNOT\n",
    "pauli_z = cirq.Z"
   ]
  },
  {
   "cell_type": "code",
   "execution_count": 21,
   "metadata": {},
   "outputs": [],
   "source": [
    "#use exponentiation to get square root gates\n",
    "\n",
    "sqrt_x_gate = cirq.X ** 0.5\n",
    "sqrt_iswap = cirq.ISWAP ** 0.5"
   ]
  },
  {
   "cell_type": "code",
   "execution_count": 22,
   "metadata": {},
   "outputs": [],
   "source": [
    "# some gates take parameters\n",
    "\n",
    "sqrt_sqrt_y = cirq.YPowGate(exponent = 0.25)"
   ]
  },
  {
   "cell_type": "code",
   "execution_count": 24,
   "metadata": {},
   "outputs": [],
   "source": [
    "#example operations\n",
    "\n",
    "q0, q1 = cirq.LineQubit.range(2)\n",
    "\n",
    "z_op = cirq.Z(q0)\n",
    "\n",
    "not_op = cirq.CNOT(q0,q1)\n",
    "\n",
    "sqrt_iswap_op = sqrt_iswap(q0,q1)"
   ]
  },
  {
   "cell_type": "markdown",
   "metadata": {},
   "source": [
    "### Circuits and Moments\n",
    "\n",
    "A **Moment** is a collection of operations acting during the same abstract time slice, and a **Circuit** is a collection of moments. Each operation must have a disjoint set of qubits from other operations in a moment."
   ]
  },
  {
   "cell_type": "code",
   "execution_count": 25,
   "metadata": {},
   "outputs": [
    {
     "name": "stdout",
     "output_type": "stream",
     "text": [
      "0: ───H───\n",
      "\n",
      "1: ───H───\n",
      "\n",
      "2: ───H───\n"
     ]
    }
   ],
   "source": [
    "circuit = cirq.Circuit()\n",
    "\n",
    "#you can create a circuit by appending to it\n",
    "circuit.append(cirq.H(q) for q in cirq.LineQubit.range(3))\n",
    "\n",
    "print(circuit)"
   ]
  },
  {
   "cell_type": "code",
   "execution_count": 27,
   "metadata": {},
   "outputs": [
    {
     "data": {
      "text/html": [
       "<pre style=\"overflow: auto; white-space: pre;\">0: ───×───────────\n",
       "      │\n",
       "1: ───×───×───────\n",
       "          │\n",
       "2: ───────×───×───\n",
       "              │\n",
       "3: ───────────×───</pre>"
      ],
      "text/plain": [
       "0: ───×───────────\n",
       "      │\n",
       "1: ───×───×───────\n",
       "          │\n",
       "2: ───────×───×───\n",
       "              │\n",
       "3: ───────────×───"
      ]
     },
     "execution_count": 27,
     "metadata": {},
     "output_type": "execute_result"
    }
   ],
   "source": [
    "# we can create circuits directly\n",
    "\n",
    "cirq.Circuit(cirq.SWAP(q,q+1) for q in cirq.LineQubit.range(3))"
   ]
  },
  {
   "cell_type": "markdown",
   "metadata": {},
   "source": [
    "To construct a circuit without automatically shifting operations all the way to the left, you can create the circuit moment-by-moment or use a different **InsertStrategy**"
   ]
  },
  {
   "cell_type": "code",
   "execution_count": 29,
   "metadata": {},
   "outputs": [
    {
     "data": {
      "text/html": [
       "<pre style=\"overflow: auto; white-space: pre;\">0: ───H───────────\n",
       "\n",
       "1: ───────H───────\n",
       "\n",
       "2: ───────────H───</pre>"
      ],
      "text/plain": [
       "0: ───H───────────\n",
       "\n",
       "1: ───────H───────\n",
       "\n",
       "2: ───────────H───"
      ]
     },
     "execution_count": 29,
     "metadata": {},
     "output_type": "execute_result"
    }
   ],
   "source": [
    "# create gates in separate moments\n",
    "cirq.Circuit( cirq.Moment([cirq.H(q)]) for q in cirq.LineQubit.range(3) )"
   ]
  },
  {
   "cell_type": "markdown",
   "metadata": {},
   "source": [
    "###  Circuits and devices\n",
    "\n",
    "There are often hardward contraints on a circuit, and creating a circuit with a **Device** will capture some of these requirements. The Device objects validate the operations you add to the circuit and ensure no illegal operations are added"
   ]
  },
  {
   "cell_type": "code",
   "execution_count": 30,
   "metadata": {},
   "outputs": [],
   "source": [
    "#let's set up 3 qubits and 2 operations\n",
    "\n",
    "q0 = cirq.GridQubit(0,0)\n",
    "q1 = cirq.GridQubit(0,1)\n",
    "q2 = cirq.GridQubit(0,2)\n",
    "\n",
    "adjacent_op = cirq.CZ(q0, q1)\n",
    "nonadjacent_op = cirq.CZ(q0, q2)"
   ]
  },
  {
   "cell_type": "code",
   "execution_count": 31,
   "metadata": {},
   "outputs": [
    {
     "data": {
      "text/html": [
       "<pre style=\"overflow: auto; white-space: pre;\">(0, 0): ───@───@───\n",
       "           │   │\n",
       "(0, 1): ───@───┼───\n",
       "               │\n",
       "(0, 2): ───────@───</pre>"
      ],
      "text/plain": [
       "(0, 0): ───@───@───\n",
       "           │   │\n",
       "(0, 1): ───@───┼───\n",
       "               │\n",
       "(0, 2): ───────@───"
      ]
     },
     "execution_count": 31,
     "metadata": {},
     "output_type": "execute_result"
    }
   ],
   "source": [
    "# an unconstrained circuit with no device\n",
    "\n",
    "free_circuit = cirq.Circuit()\n",
    "\n",
    "#both operations are allowed:\n",
    "\n",
    "free_circuit.append(adjacent_op)\n",
    "free_circuit.append(nonadjacent_op)\n",
    "\n",
    "free_circuit"
   ]
  },
  {
   "cell_type": "code",
   "execution_count": 34,
   "metadata": {},
   "outputs": [
    {
     "name": "stdout",
     "output_type": "stream",
     "text": [
      "Non-local interaction: cirq.CZ(cirq.GridQubit(0, 0), cirq.GridQubit(0, 2)).\n"
     ]
    }
   ],
   "source": [
    "# circuit on Foxtail device\n",
    "\n",
    "foxtail_circuit = cirq.Circuit(device = cirq_google.Foxtail)\n",
    "foxtail_circuit.append(adjacent_op)\n",
    "\n",
    "# this will throw an error\n",
    "try:\n",
    "    foxtail_circuit.append(nonadjacent_op)\n",
    "except ValueError as e:\n",
    "    print(e)"
   ]
  },
  {
   "cell_type": "markdown",
   "metadata": {},
   "source": [
    "### Simulation\n",
    "\n",
    "Cirq comes bundled with a **Simulator** that calculates the results of circuits up to a limit of about 20 qubits, and is initialized with **cirq.Simulator()**"
   ]
  },
  {
   "cell_type": "code",
   "execution_count": 44,
   "metadata": {},
   "outputs": [
    {
     "data": {
      "text/plain": [
       "measurements: (no measurements)\n",
       "output vector: 0.707|00⟩ + 0.707|11⟩"
      ]
     },
     "execution_count": 44,
     "metadata": {},
     "output_type": "execute_result"
    }
   ],
   "source": [
    "# simulating a 2-qubit Bell State\n",
    "# 1/sqrt(2) * ( |00> + |11> )\n",
    "\n",
    "#initialize circuit\n",
    "bell_circuit = cirq.Circuit()\n",
    "\n",
    "#set up the qubits and operations\n",
    "q0, q1 = cirq.LineQubit.range(2)\n",
    "bell_circuit.append(cirq.H(q0))\n",
    "bell_circuit.append(cirq.CNOT(q0,q1))\n",
    "\n",
    "#initialize Simulator\n",
    "s = cirq.Simulator()\n",
    "\n",
    "#and simulate the results\n",
    "results = s.simulate(bell_circuit)\n",
    "results"
   ]
  },
  {
   "cell_type": "code",
   "execution_count": 45,
   "metadata": {},
   "outputs": [
    {
     "data": {
      "text/plain": [
       "Counter({3: 519, 0: 481})"
      ]
     },
     "execution_count": 45,
     "metadata": {},
     "output_type": "execute_result"
    }
   ],
   "source": [
    "#for sampling, add a measurement at the end\n",
    "bell_circuit.append(cirq.measure(q0,q1,key='result'))\n",
    "\n",
    "#sample the circuit\n",
    "samples = s.run(bell_circuit, repetitions=1000)\n",
    "samples.histogram(key='result')"
   ]
  },
  {
   "cell_type": "code",
   "execution_count": 46,
   "metadata": {},
   "outputs": [
    {
     "data": {
      "text/html": [
       "<pre style=\"overflow: auto; white-space: pre;\">0: ───H───@───M(&#x27;result&#x27;)───\n",
       "          │   │\n",
       "1: ───────X───M─────────────</pre>"
      ],
      "text/plain": [
       "0: ───H───@───M('result')───\n",
       "          │   │\n",
       "1: ───────X───M─────────────"
      ]
     },
     "execution_count": 46,
     "metadata": {},
     "output_type": "execute_result"
    }
   ],
   "source": [
    "bell_circuit"
   ]
  },
  {
   "cell_type": "markdown",
   "metadata": {},
   "source": [
    "### Parameter sweeps\n",
    "\n",
    "Gates can have free parameters within the circuit. This is especially useful for variational algorithms, which vary parameters to optimize a cost function\n",
    "\n",
    "For parameters, cirq uses the **sympy** library to add **sympy.Symbol** as parameters to gates and operations. When the circuit is complete you can fill in possible parameter values with a **Sweep**:\n",
    "\n",
    "* **cirq.Points** a list of manually specified float values for one specific symbol\n",
    "* **cirq.Linspace** a linear sweep from a starting value to an ending value\n",
    "* **cirq.ListSweep** a list of manually specified dictionary values for several different symbols\n",
    "* **cirq.Zip** and **cirq.Product** combine sweeps list-wise by zipping together or by cartesian product\n",
    "\n",
    "A parametrized circuit and sweep can be run together using the simulator by changing **run()** to **run_sweep()** and adding the sweep as a parameter"
   ]
  },
  {
   "cell_type": "code",
   "execution_count": 54,
   "metadata": {},
   "outputs": [],
   "source": [
    "import matplotlib.pyplot as plt\n",
    "import seaborn as sns\n",
    "import sympy"
   ]
  },
  {
   "cell_type": "code",
   "execution_count": 59,
   "metadata": {},
   "outputs": [
    {
     "data": {
      "image/png": "[encoded data removed]",
      "text/plain": [
       "<Figure size 432x288 with 1 Axes>"
      ]
     },
     "metadata": {
      "needs_background": "light"
     },
     "output_type": "display_data"
    }
   ],
   "source": [
    "#example of sweeping the exponent of an X gate\n",
    "\n",
    "#perform an X gate with a variable exponent\n",
    "q = cirq.GridQubit(1,1)\n",
    "circuit = cirq.Circuit(cirq.X(q) ** sympy.Symbol('t'), cirq.measure(q, key='m'))\n",
    "\n",
    "# sweep exponent from off (0) to on (1) and back to off (2)\n",
    "param_sweep = cirq.Linspace('t', start=0, stop=2, length=200)\n",
    "\n",
    "#simulate the sweep\n",
    "s = cirq.Simulator()\n",
    "trials = s.run_sweep(circuit, param_sweep, repetitions = 1000)\n",
    "\n",
    "#plot the results\n",
    "x_data = [ trial.params['t'] for trial in trials ]\n",
    "y_data = [ trial.histogram(key='m')[1] / 1000.0 for trial in trials ]\n",
    "\n",
    "sns.scatterplot(x=x_data,y=y_data);"
   ]
  },
  {
   "cell_type": "code",
   "execution_count": 60,
   "metadata": {},
   "outputs": [
    {
     "data": {
      "text/plain": [
       "<matplotlib.collections.PathCollection at 0x268fb797a60>"
      ]
     },
     "execution_count": 60,
     "metadata": {},
     "output_type": "execute_result"
    },
    {
     "data": {
      "image/png": "[encoded data removed]",
      "text/plain": [
       "<Figure size 432x288 with 1 Axes>"
      ]
     },
     "metadata": {
      "needs_background": "light"
     },
     "output_type": "display_data"
    }
   ],
   "source": [
    "plt.scatter(x_data,y_data)"
   ]
  },
  {
   "cell_type": "markdown",
   "metadata": {},
   "source": [
    "### Unitary matrices and decompositions\n",
    "\n",
    "Most quantum operations have a unitary matrix associated with them, accessed by **cirq.unitary()**"
   ]
  },
  {
   "cell_type": "code",
   "execution_count": 61,
   "metadata": {},
   "outputs": [
    {
     "name": "stdout",
     "output_type": "stream",
     "text": [
      "X gate:\n",
      " [[0.+0.j 1.+0.j]\n",
      " [1.+0.j 0.+0.j]]\n"
     ]
    }
   ],
   "source": [
    "print(f\"X gate:\\n {cirq.unitary(cirq.X)}\")"
   ]
  },
  {
   "cell_type": "code",
   "execution_count": 62,
   "metadata": {},
   "outputs": [
    {
     "name": "stdout",
     "output_type": "stream",
     "text": [
      "Hadamard gate:\n",
      " [[ 0.70710678+0.j  0.70710678+0.j]\n",
      " [ 0.70710678+0.j -0.70710678+0.j]]\n"
     ]
    }
   ],
   "source": [
    "print(f\"Hadamard gate:\\n {cirq.unitary(cirq.H)}\")"
   ]
  },
  {
   "cell_type": "code",
   "execution_count": 64,
   "metadata": {},
   "outputs": [
    {
     "name": "stdout",
     "output_type": "stream",
     "text": [
      "SWAP gate:\n",
      " [[1.+0.j 0.+0.j 0.+0.j 0.+0.j]\n",
      " [0.+0.j 0.+0.j 1.+0.j 0.+0.j]\n",
      " [0.+0.j 1.+0.j 0.+0.j 0.+0.j]\n",
      " [0.+0.j 0.+0.j 0.+0.j 1.+0.j]]\n"
     ]
    }
   ],
   "source": [
    "q0,q1 = cirq.LineQubit.range(2)\n",
    "print(f\"SWAP gate:\\n {cirq.unitary(cirq.SWAP(q0,q1))}\")"
   ]
  },
  {
   "cell_type": "code",
   "execution_count": 66,
   "metadata": {},
   "outputs": [
    {
     "name": "stdout",
     "output_type": "stream",
     "text": [
      "X and SWAP combined:\n",
      "[[0.+0.j 0.+0.j 1.+0.j 0.+0.j]\n",
      " [1.+0.j 0.+0.j 0.+0.j 0.+0.j]\n",
      " [0.+0.j 0.+0.j 0.+0.j 1.+0.j]\n",
      " [0.+0.j 1.+0.j 0.+0.j 0.+0.j]]\n"
     ]
    }
   ],
   "source": [
    "print(f\"X and SWAP combined:\\n{cirq.unitary(cirq.Circuit(cirq.X(q0), cirq.SWAP(q0,q1)))}\")"
   ]
  },
  {
   "cell_type": "markdown",
   "metadata": {},
   "source": [
    "##### Decompositions\n",
    "\n",
    "Some gates can be decomposed into an equivalent circuit with simpler operations and gates using **cirq.decompose**"
   ]
  },
  {
   "cell_type": "code",
   "execution_count": 69,
   "metadata": {},
   "outputs": [
    {
     "data": {
      "text/plain": [
       "[(cirq.Y**0.5).on(cirq.LineQubit(0)),\n",
       " cirq.XPowGate(exponent=1.0, global_shift=-0.25).on(cirq.LineQubit(0))]"
      ]
     },
     "execution_count": 69,
     "metadata": {},
     "output_type": "execute_result"
    }
   ],
   "source": [
    "#decomposing a Hadamard gate into X and Y gates\n",
    "\n",
    "cirq.decompose(cirq.H(cirq.LineQubit(0)))"
   ]
  },
  {
   "cell_type": "code",
   "execution_count": 70,
   "metadata": {},
   "outputs": [
    {
     "data": {
      "text/html": [
       "<pre style=\"overflow: auto; white-space: pre;\">0: ───T────────────────@─────────────────────────────────@─────────────────────────────@────────────────────────────@───────────────────────────────────────\n",
       "                       │                                 │                             │                            │\n",
       "1: ───T───────Y^-0.5───@───Y^0.5────@───T^-1────Y^-0.5───@────────Y^0.5───@───Y^-0.5───@──────Y^0.5────@───Y^-0.5───@──────Y^0.5────@───────────────────────\n",
       "                                    │                                     │                            │                            │\n",
       "2: ───Y^0.5───X────────T───Y^-0.5───@───Y^0.5───T────────Y^-0.5───────────@───Y^0.5────T^-1───Y^-0.5───@───Y^0.5────T^-1───Y^-0.5───@───Y^0.5───Y^0.5───X───</pre>"
      ],
      "text/plain": [
       "0: ───T────────────────@─────────────────────────────────@─────────────────────────────@────────────────────────────@───────────────────────────────────────\n",
       "                       │                                 │                             │                            │\n",
       "1: ───T───────Y^-0.5───@───Y^0.5────@───T^-1────Y^-0.5───@────────Y^0.5───@───Y^-0.5───@──────Y^0.5────@───Y^-0.5───@──────Y^0.5────@───────────────────────\n",
       "                                    │                                     │                            │                            │\n",
       "2: ───Y^0.5───X────────T───Y^-0.5───@───Y^0.5───T────────Y^-0.5───────────@───Y^0.5────T^-1───Y^-0.5───@───Y^0.5────T^-1───Y^-0.5───@───Y^0.5───Y^0.5───X───"
      ]
     },
     "execution_count": 70,
     "metadata": {},
     "output_type": "execute_result"
    }
   ],
   "source": [
    "#decomposing a 3-qubit Toffoli gate\n",
    "#many devices do not support 3-qubit gates, so having 2-qubit translations is useful\n",
    "\n",
    "q0,q1,q2 = cirq.LineQubit.range(3)\n",
    "\n",
    "cirq.Circuit(cirq.decompose(cirq.TOFFOLI(q0,q1,q2)))"
   ]
  },
  {
   "cell_type": "code",
   "execution_count": 71,
   "metadata": {},
   "outputs": [
    {
     "data": {
      "text/html": [
       "<pre style=\"overflow: auto; white-space: pre;\">0: ───@───\n",
       "      │\n",
       "1: ───@───\n",
       "      │\n",
       "2: ───X───</pre>"
      ],
      "text/plain": [
       "0: ───@───\n",
       "      │\n",
       "1: ───@───\n",
       "      │\n",
       "2: ───X───"
      ]
     },
     "execution_count": 71,
     "metadata": {},
     "output_type": "execute_result"
    }
   ],
   "source": [
    "cirq.Circuit(cirq.TOFFOLI(q0,q1,q2))"
   ]
  },
  {
   "cell_type": "markdown",
   "metadata": {},
   "source": [
    "Some devices automatically decompose gates they do not support\n",
    "\n",
    "For example, adding an unsupported SWAP gate to the Foxtail device:"
   ]
  },
  {
   "cell_type": "code",
   "execution_count": 72,
   "metadata": {},
   "outputs": [
    {
     "data": {
      "text/html": [
       "<pre style=\"overflow: auto; white-space: pre;\">(0, 0): ───S^-1───Y^-0.5───@───S^-1───Y^0.5───X^0.5───@───S^-1───X^-0.5───@───S^-1───Z───\n",
       "                           │                          │                   │\n",
       "(0, 1): ───Z──────Y^-0.5───@───S^-1───Y^0.5───X^0.5───@───S^-1───X^-0.5───@───S^-1───S───</pre>"
      ],
      "text/plain": [
       "(0, 0): ───S^-1───Y^-0.5───@───S^-1───Y^0.5───X^0.5───@───S^-1───X^-0.5───@───S^-1───Z───\n",
       "                           │                          │                   │\n",
       "(0, 1): ───Z──────Y^-0.5───@───S^-1───Y^0.5───X^0.5───@───S^-1───X^-0.5───@───S^-1───S───"
      ]
     },
     "execution_count": 72,
     "metadata": {},
     "output_type": "execute_result"
    }
   ],
   "source": [
    "swap = cirq.SWAP(cirq.GridQubit(0,0), cirq.GridQubit(0,1))\n",
    "\n",
    "cirq.Circuit(swap, device = cirq_google.Foxtail)"
   ]
  },
  {
   "cell_type": "markdown",
   "metadata": {},
   "source": [
    "### Optimizers\n",
    "\n",
    "An **Optimizer** can take a circuit and modify it, usually by combining or modifying operations to make it more efficient and shorter, and in theory it can do other circuit manipulations too\n",
    "\n",
    "Here is the **MergeSingleQubitGates** which takes consecutive single-qubit operations and merges them"
   ]
  },
  {
   "cell_type": "code",
   "execution_count": 77,
   "metadata": {},
   "outputs": [
    {
     "name": "stdout",
     "output_type": "stream",
     "text": [
      "Original:\n",
      "(1, 1): ───X^0.25───Y^0.25───T───\n",
      "\n",
      "Optimized:\n",
      "           ┌                           ┐\n",
      "(1, 1): ───│ 0.5  +0.707j -0.   -0.5j  │───────────\n",
      "           │ 0.354+0.354j  0.146+0.854j│\n",
      "           └                           ┘\n"
     ]
    }
   ],
   "source": [
    "q0 = cirq.GridQubit(1,1)\n",
    "\n",
    "optimizer = cirq.MergeSingleQubitGates()\n",
    "\n",
    "c = cirq.Circuit(cirq.X(q0) ** 0.25, cirq.Y(q0) ** 0.25, cirq.Z(q0)**0.25)\n",
    "print(f\"Original:\\n{c}\\n\")\n",
    "\n",
    "optimizer.optimize_circuit(c)\n",
    "print(f\"Optimized:\\n{c}\")"
   ]
  },
  {
   "cell_type": "markdown",
   "metadata": {},
   "source": [
    "Other optimizers can help transform a circuit into native operations on specific hardware devices"
   ]
  },
  {
   "cell_type": "code",
   "execution_count": null,
   "metadata": {},
   "outputs": [],
   "source": []
  }
 ],
 "metadata": {
  "kernelspec": {
   "display_name": "Python 3",
   "language": "python",
   "name": "python3"
  },
  "language_info": {
   "codemirror_mode": {
    "name": "ipython",
    "version": 3
   },
   "file_extension": ".py",
   "mimetype": "text/x-python",
   "name": "python",
   "nbconvert_exporter": "python",
   "pygments_lexer": "ipython3",
   "version": "3.8.5"
  }
 },
 "nbformat": 4,
 "nbformat_minor": 4
}
